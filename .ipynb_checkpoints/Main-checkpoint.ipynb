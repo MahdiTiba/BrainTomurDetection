{
 "cells": [
  {
   "cell_type": "code",
   "execution_count": 17,
   "id": "813470c0",
   "metadata": {},
   "outputs": [],
   "source": [
    "import tensorflow as tf\n",
    "import numpy as np\n",
    "import matplotlib.pyplot as plt\n",
    "from tensorflow.keras import utils\n",
    "from tensorflow.keras.applications import vgg16, resnet50\n",
    "from tensorflow.keras.preprocessing.image import ImageDataGenerator\n",
    "import os\n",
    "import cv2"
   ]
  },
  {
   "cell_type": "markdown",
   "id": "d79ccd13",
   "metadata": {},
   "source": [
    "# Section 1 _______________________________________"
   ]
  },
  {
   "cell_type": "code",
   "execution_count": 19,
   "id": "07d5a18c",
   "metadata": {},
   "outputs": [
    {
     "name": "stdout",
     "output_type": "stream",
     "text": [
      "WARNING:tensorflow:`input_shape` is undefined or non-square, or `rows` is not in [128, 160, 192, 224]. Weights for input shape (224, 224) will be loaded as the default.\n",
      "Downloading data from https://storage.googleapis.com/tensorflow/keras-applications/mobilenet/mobilenet_1_0_224_tf_no_top.h5\n",
      "17225924/17225924 [==============================] - 27s 2us/step\n"
     ]
    }
   ],
   "source": [
    "model_mobilenet = tf.keras.applications.MobileNet(include_top=False, weights='imagenet')"
   ]
  },
  {
   "cell_type": "code",
   "execution_count": 20,
   "id": "04f965da",
   "metadata": {},
   "outputs": [
    {
     "name": "stdout",
     "output_type": "stream",
     "text": [
      "Downloading data from https://storage.googleapis.com/tensorflow/keras-applications/resnet/resnet50_weights_tf_dim_ordering_tf_kernels_notop.h5\n",
      "94765736/94765736 [==============================] - 106s 1us/step\n"
     ]
    }
   ],
   "source": [
    "model_resnet50 = tf.keras.applications.ResNet50(include_top=False, weights='imagenet')"
   ]
  },
  {
   "cell_type": "code",
   "execution_count": 21,
   "id": "14f640bd",
   "metadata": {},
   "outputs": [
    {
     "name": "stdout",
     "output_type": "stream",
     "text": [
      "Downloading data from https://storage.googleapis.com/tensorflow/keras-applications/vgg16/vgg16_weights_tf_dim_ordering_tf_kernels_notop.h5\n",
      "58889256/58889256 [==============================] - 61s 1us/step\n"
     ]
    }
   ],
   "source": [
    "model_VGG16 = tf.keras.applications.VGG16(include_top=False, weights='imagenet')"
   ]
  },
  {
   "cell_type": "code",
   "execution_count": 32,
   "id": "16ee4e4c",
   "metadata": {},
   "outputs": [],
   "source": [
    "directory = 'W:\\Knowledge Base\\Projects\\BrainTumorDetection\\Brain_tumor_dataset'"
   ]
  },
  {
   "cell_type": "markdown",
   "id": "8f9133e3",
   "metadata": {},
   "source": [
    "### Data Augmentation"
   ]
  },
  {
   "cell_type": "code",
   "execution_count": 33,
   "id": "db64d4b1",
   "metadata": {},
   "outputs": [],
   "source": [
    "datagen = ImageDataGenerator(rescale=1./255, validation_split=0.2)"
   ]
  },
  {
   "cell_type": "code",
   "execution_count": 49,
   "id": "c9a26c25",
   "metadata": {},
   "outputs": [
    {
     "name": "stdout",
     "output_type": "stream",
     "text": [
      "Found 203 images belonging to 2 classes.\n"
     ]
    }
   ],
   "source": [
    "train_data = datagen.flow_from_directory(\n",
    "    directory=directory,\n",
    "    target_size=(224, 224),\n",
    "    subset='training',\n",
    "    batch_size=10,\n",
    "    shuffle=True)"
   ]
  },
  {
   "cell_type": "code",
   "execution_count": 35,
   "id": "b4269593",
   "metadata": {},
   "outputs": [
    {
     "name": "stdout",
     "output_type": "stream",
     "text": [
      "Found 50 images belonging to 2 classes.\n"
     ]
    }
   ],
   "source": [
    "test_data = datagen.flow_from_directory(\n",
    "    directory,\n",
    "    (224, 224),\n",
    "    subset=\"validation\",\n",
    "    batch_size=10)"
   ]
  },
  {
   "cell_type": "code",
   "execution_count": 36,
   "id": "ff868a14",
   "metadata": {},
   "outputs": [],
   "source": [
    "x = model_mobilenet.output\n",
    "x = tf.keras.layers.GlobalMaxPool2D()(x)\n",
    "x = tf.keras.layers.Dense(1000, activation='relu')(x)\n",
    "output = tf.keras.layers.Dense(1, activation='sigmoid')(x)"
   ]
  },
  {
   "cell_type": "code",
   "execution_count": 37,
   "id": "775ea8ac",
   "metadata": {},
   "outputs": [],
   "source": [
    "model_1 = tf.keras.models.Model(inputs=model_mobilenet.input, outputs=output)"
   ]
  },
  {
   "cell_type": "code",
   "execution_count": 38,
   "id": "42c82930",
   "metadata": {},
   "outputs": [
    {
     "name": "stdout",
     "output_type": "stream",
     "text": [
      "Model: \"model\"\n",
      "_________________________________________________________________\n",
      " Layer (type)                Output Shape              Param #   \n",
      "=================================================================\n",
      " input_3 (InputLayer)        [(None, None, None, 3)]   0         \n",
      "                                                                 \n",
      " conv1 (Conv2D)              (None, None, None, 32)    864       \n",
      "                                                                 \n",
      " conv1_bn (BatchNormalizatio  (None, None, None, 32)   128       \n",
      " n)                                                              \n",
      "                                                                 \n",
      " conv1_relu (ReLU)           (None, None, None, 32)    0         \n",
      "                                                                 \n",
      " conv_dw_1 (DepthwiseConv2D)  (None, None, None, 32)   288       \n",
      "                                                                 \n",
      " conv_dw_1_bn (BatchNormaliz  (None, None, None, 32)   128       \n",
      " ation)                                                          \n",
      "                                                                 \n",
      " conv_dw_1_relu (ReLU)       (None, None, None, 32)    0         \n",
      "                                                                 \n",
      " conv_pw_1 (Conv2D)          (None, None, None, 64)    2048      \n",
      "                                                                 \n",
      " conv_pw_1_bn (BatchNormaliz  (None, None, None, 64)   256       \n",
      " ation)                                                          \n",
      "                                                                 \n",
      " conv_pw_1_relu (ReLU)       (None, None, None, 64)    0         \n",
      "                                                                 \n",
      " conv_pad_2 (ZeroPadding2D)  (None, None, None, 64)    0         \n",
      "                                                                 \n",
      " conv_dw_2 (DepthwiseConv2D)  (None, None, None, 64)   576       \n",
      "                                                                 \n",
      " conv_dw_2_bn (BatchNormaliz  (None, None, None, 64)   256       \n",
      " ation)                                                          \n",
      "                                                                 \n",
      " conv_dw_2_relu (ReLU)       (None, None, None, 64)    0         \n",
      "                                                                 \n",
      " conv_pw_2 (Conv2D)          (None, None, None, 128)   8192      \n",
      "                                                                 \n",
      " conv_pw_2_bn (BatchNormaliz  (None, None, None, 128)  512       \n",
      " ation)                                                          \n",
      "                                                                 \n",
      " conv_pw_2_relu (ReLU)       (None, None, None, 128)   0         \n",
      "                                                                 \n",
      " conv_dw_3 (DepthwiseConv2D)  (None, None, None, 128)  1152      \n",
      "                                                                 \n",
      " conv_dw_3_bn (BatchNormaliz  (None, None, None, 128)  512       \n",
      " ation)                                                          \n",
      "                                                                 \n",
      " conv_dw_3_relu (ReLU)       (None, None, None, 128)   0         \n",
      "                                                                 \n",
      " conv_pw_3 (Conv2D)          (None, None, None, 128)   16384     \n",
      "                                                                 \n",
      " conv_pw_3_bn (BatchNormaliz  (None, None, None, 128)  512       \n",
      " ation)                                                          \n",
      "                                                                 \n",
      " conv_pw_3_relu (ReLU)       (None, None, None, 128)   0         \n",
      "                                                                 \n",
      " conv_pad_4 (ZeroPadding2D)  (None, None, None, 128)   0         \n",
      "                                                                 \n",
      " conv_dw_4 (DepthwiseConv2D)  (None, None, None, 128)  1152      \n",
      "                                                                 \n",
      " conv_dw_4_bn (BatchNormaliz  (None, None, None, 128)  512       \n",
      " ation)                                                          \n",
      "                                                                 \n",
      " conv_dw_4_relu (ReLU)       (None, None, None, 128)   0         \n",
      "                                                                 \n",
      " conv_pw_4 (Conv2D)          (None, None, None, 256)   32768     \n",
      "                                                                 \n",
      " conv_pw_4_bn (BatchNormaliz  (None, None, None, 256)  1024      \n",
      " ation)                                                          \n",
      "                                                                 \n",
      " conv_pw_4_relu (ReLU)       (None, None, None, 256)   0         \n",
      "                                                                 \n",
      " conv_dw_5 (DepthwiseConv2D)  (None, None, None, 256)  2304      \n",
      "                                                                 \n",
      " conv_dw_5_bn (BatchNormaliz  (None, None, None, 256)  1024      \n",
      " ation)                                                          \n",
      "                                                                 \n",
      " conv_dw_5_relu (ReLU)       (None, None, None, 256)   0         \n",
      "                                                                 \n",
      " conv_pw_5 (Conv2D)          (None, None, None, 256)   65536     \n",
      "                                                                 \n",
      " conv_pw_5_bn (BatchNormaliz  (None, None, None, 256)  1024      \n",
      " ation)                                                          \n",
      "                                                                 \n",
      " conv_pw_5_relu (ReLU)       (None, None, None, 256)   0         \n",
      "                                                                 \n",
      " conv_pad_6 (ZeroPadding2D)  (None, None, None, 256)   0         \n",
      "                                                                 \n",
      " conv_dw_6 (DepthwiseConv2D)  (None, None, None, 256)  2304      \n",
      "                                                                 \n",
      " conv_dw_6_bn (BatchNormaliz  (None, None, None, 256)  1024      \n",
      " ation)                                                          \n",
      "                                                                 \n",
      " conv_dw_6_relu (ReLU)       (None, None, None, 256)   0         \n",
      "                                                                 \n",
      " conv_pw_6 (Conv2D)          (None, None, None, 512)   131072    \n",
      "                                                                 \n",
      " conv_pw_6_bn (BatchNormaliz  (None, None, None, 512)  2048      \n",
      " ation)                                                          \n",
      "                                                                 \n",
      " conv_pw_6_relu (ReLU)       (None, None, None, 512)   0         \n",
      "                                                                 \n",
      " conv_dw_7 (DepthwiseConv2D)  (None, None, None, 512)  4608      \n",
      "                                                                 \n",
      " conv_dw_7_bn (BatchNormaliz  (None, None, None, 512)  2048      \n",
      " ation)                                                          \n",
      "                                                                 \n",
      " conv_dw_7_relu (ReLU)       (None, None, None, 512)   0         \n",
      "                                                                 \n",
      " conv_pw_7 (Conv2D)          (None, None, None, 512)   262144    \n",
      "                                                                 \n",
      " conv_pw_7_bn (BatchNormaliz  (None, None, None, 512)  2048      \n",
      " ation)                                                          \n",
      "                                                                 \n",
      " conv_pw_7_relu (ReLU)       (None, None, None, 512)   0         \n",
      "                                                                 \n",
      " conv_dw_8 (DepthwiseConv2D)  (None, None, None, 512)  4608      \n",
      "                                                                 \n",
      " conv_dw_8_bn (BatchNormaliz  (None, None, None, 512)  2048      \n",
      " ation)                                                          \n",
      "                                                                 \n",
      " conv_dw_8_relu (ReLU)       (None, None, None, 512)   0         \n",
      "                                                                 \n",
      " conv_pw_8 (Conv2D)          (None, None, None, 512)   262144    \n"
     ]
    },
    {
     "name": "stdout",
     "output_type": "stream",
     "text": [
      "                                                                 \n",
      " conv_pw_8_bn (BatchNormaliz  (None, None, None, 512)  2048      \n",
      " ation)                                                          \n",
      "                                                                 \n",
      " conv_pw_8_relu (ReLU)       (None, None, None, 512)   0         \n",
      "                                                                 \n",
      " conv_dw_9 (DepthwiseConv2D)  (None, None, None, 512)  4608      \n",
      "                                                                 \n",
      " conv_dw_9_bn (BatchNormaliz  (None, None, None, 512)  2048      \n",
      " ation)                                                          \n",
      "                                                                 \n",
      " conv_dw_9_relu (ReLU)       (None, None, None, 512)   0         \n",
      "                                                                 \n",
      " conv_pw_9 (Conv2D)          (None, None, None, 512)   262144    \n",
      "                                                                 \n",
      " conv_pw_9_bn (BatchNormaliz  (None, None, None, 512)  2048      \n",
      " ation)                                                          \n",
      "                                                                 \n",
      " conv_pw_9_relu (ReLU)       (None, None, None, 512)   0         \n",
      "                                                                 \n",
      " conv_dw_10 (DepthwiseConv2D  (None, None, None, 512)  4608      \n",
      " )                                                               \n",
      "                                                                 \n",
      " conv_dw_10_bn (BatchNormali  (None, None, None, 512)  2048      \n",
      " zation)                                                         \n",
      "                                                                 \n",
      " conv_dw_10_relu (ReLU)      (None, None, None, 512)   0         \n",
      "                                                                 \n",
      " conv_pw_10 (Conv2D)         (None, None, None, 512)   262144    \n",
      "                                                                 \n",
      " conv_pw_10_bn (BatchNormali  (None, None, None, 512)  2048      \n",
      " zation)                                                         \n",
      "                                                                 \n",
      " conv_pw_10_relu (ReLU)      (None, None, None, 512)   0         \n",
      "                                                                 \n",
      " conv_dw_11 (DepthwiseConv2D  (None, None, None, 512)  4608      \n",
      " )                                                               \n",
      "                                                                 \n",
      " conv_dw_11_bn (BatchNormali  (None, None, None, 512)  2048      \n",
      " zation)                                                         \n",
      "                                                                 \n",
      " conv_dw_11_relu (ReLU)      (None, None, None, 512)   0         \n",
      "                                                                 \n",
      " conv_pw_11 (Conv2D)         (None, None, None, 512)   262144    \n",
      "                                                                 \n",
      " conv_pw_11_bn (BatchNormali  (None, None, None, 512)  2048      \n",
      " zation)                                                         \n",
      "                                                                 \n",
      " conv_pw_11_relu (ReLU)      (None, None, None, 512)   0         \n",
      "                                                                 \n",
      " conv_pad_12 (ZeroPadding2D)  (None, None, None, 512)  0         \n",
      "                                                                 \n",
      " conv_dw_12 (DepthwiseConv2D  (None, None, None, 512)  4608      \n",
      " )                                                               \n",
      "                                                                 \n",
      " conv_dw_12_bn (BatchNormali  (None, None, None, 512)  2048      \n",
      " zation)                                                         \n",
      "                                                                 \n",
      " conv_dw_12_relu (ReLU)      (None, None, None, 512)   0         \n",
      "                                                                 \n",
      " conv_pw_12 (Conv2D)         (None, None, None, 1024)  524288    \n",
      "                                                                 \n",
      " conv_pw_12_bn (BatchNormali  (None, None, None, 1024)  4096     \n",
      " zation)                                                         \n",
      "                                                                 \n",
      " conv_pw_12_relu (ReLU)      (None, None, None, 1024)  0         \n",
      "                                                                 \n",
      " conv_dw_13 (DepthwiseConv2D  (None, None, None, 1024)  9216     \n",
      " )                                                               \n",
      "                                                                 \n",
      " conv_dw_13_bn (BatchNormali  (None, None, None, 1024)  4096     \n",
      " zation)                                                         \n",
      "                                                                 \n",
      " conv_dw_13_relu (ReLU)      (None, None, None, 1024)  0         \n",
      "                                                                 \n",
      " conv_pw_13 (Conv2D)         (None, None, None, 1024)  1048576   \n",
      "                                                                 \n",
      " conv_pw_13_bn (BatchNormali  (None, None, None, 1024)  4096     \n",
      " zation)                                                         \n",
      "                                                                 \n",
      " conv_pw_13_relu (ReLU)      (None, None, None, 1024)  0         \n",
      "                                                                 \n",
      " global_max_pooling2d (Globa  (None, 1024)             0         \n",
      " lMaxPooling2D)                                                  \n",
      "                                                                 \n",
      " dense_2 (Dense)             (None, 1000)              1025000   \n",
      "                                                                 \n",
      " dense_3 (Dense)             (None, 1)                 1001      \n",
      "                                                                 \n",
      "=================================================================\n",
      "Total params: 4,254,865\n",
      "Trainable params: 4,232,977\n",
      "Non-trainable params: 21,888\n",
      "_________________________________________________________________\n"
     ]
    }
   ],
   "source": [
    "model_1.summary()"
   ]
  },
  {
   "cell_type": "code",
   "execution_count": 39,
   "id": "c4aced3e",
   "metadata": {},
   "outputs": [],
   "source": [
    "for layer in model_1.layers[:-3]:\n",
    "    layer.trainable = False"
   ]
  },
  {
   "cell_type": "code",
   "execution_count": 45,
   "id": "cca174b7",
   "metadata": {},
   "outputs": [],
   "source": [
    "model_1.compile(optimizer='adam', loss='binary_crossentropy', metrics=['accuracy', 'Precision', 'Recall'])"
   ]
  },
  {
   "cell_type": "code",
   "execution_count": null,
   "id": "0ed59d1f",
   "metadata": {},
   "outputs": [
    {
     "name": "stdout",
     "output_type": "stream",
     "text": [
      "Epoch 1/60\n",
      "7/7 [==============================] - 16s 1s/step - loss: 11.0089 - accuracy: 0.5172 - precision: 0.5940 - recall: 0.6423\n",
      "Epoch 2/60\n",
      "7/7 [==============================] - 11s 1s/step - loss: 1.9431 - accuracy: 0.5714 - precision: 0.6500 - recall: 0.6341\n",
      "Epoch 3/60\n",
      "7/7 [==============================] - 11s 1s/step - loss: 1.0916 - accuracy: 0.6650 - precision: 0.8571 - recall: 0.5366\n",
      "Epoch 4/60\n",
      "7/7 [==============================] - 11s 2s/step - loss: 1.0649 - accuracy: 0.7438 - precision: 0.7669 - recall: 0.8293\n",
      "Epoch 5/60\n",
      "7/7 [==============================] - 11s 1s/step - loss: 0.5014 - accuracy: 0.8325 - precision: 0.8296 - recall: 0.9106\n",
      "Epoch 6/60\n",
      "7/7 [==============================] - 12s 2s/step - loss: 0.2843 - accuracy: 0.8867 - precision: 0.9630 - recall: 0.8455\n",
      "Epoch 7/60\n",
      "7/7 [==============================] - 12s 1s/step - loss: 0.2992 - accuracy: 0.8719 - precision: 0.8593 - recall: 0.9431\n",
      "Epoch 8/60\n",
      "7/7 [==============================] - 12s 1s/step - loss: 0.1579 - accuracy: 0.9409 - precision: 0.9587 - recall: 0.9431\n",
      "Epoch 9/60\n",
      "7/7 [==============================] - 12s 2s/step - loss: 0.1468 - accuracy: 0.9507 - precision: 0.9593 - recall: 0.9593\n",
      "Epoch 10/60\n",
      "7/7 [==============================] - 12s 2s/step - loss: 0.1010 - accuracy: 0.9655 - precision: 0.9462 - recall: 1.0000\n",
      "Epoch 11/60\n",
      "7/7 [==============================] - 13s 2s/step - loss: 0.0781 - accuracy: 0.9754 - precision: 0.9683 - recall: 0.9919\n",
      "Epoch 12/60\n",
      "7/7 [==============================] - 14s 2s/step - loss: 0.0584 - accuracy: 0.9852 - precision: 0.9762 - recall: 1.0000\n",
      "Epoch 13/60\n",
      "7/7 [==============================] - 16s 2s/step - loss: 0.0669 - accuracy: 0.9901 - precision: 1.0000 - recall: 0.9837\n",
      "Epoch 14/60\n",
      "7/7 [==============================] - 18s 2s/step - loss: 0.0683 - accuracy: 0.9852 - precision: 0.9762 - recall: 1.0000\n",
      "Epoch 15/60\n",
      "7/7 [==============================] - 21s 2s/step - loss: 0.0388 - accuracy: 1.0000 - precision: 1.0000 - recall: 1.0000\n",
      "Epoch 16/60\n",
      "7/7 [==============================] - 22s 3s/step - loss: 0.0383 - accuracy: 1.0000 - precision: 1.0000 - recall: 1.0000\n",
      "Epoch 17/60\n",
      "7/7 [==============================] - 15s 2s/step - loss: 0.0357 - accuracy: 0.9951 - precision: 0.9919 - recall: 1.0000\n",
      "Epoch 18/60\n",
      "7/7 [==============================] - 14s 2s/step - loss: 0.0368 - accuracy: 1.0000 - precision: 1.0000 - recall: 1.0000\n",
      "Epoch 19/60\n",
      "4/7 [================>.............] - ETA: 7s - loss: 0.0347 - accuracy: 1.0000 - precision: 1.0000 - recall: 1.0000 "
     ]
    }
   ],
   "source": [
    "model_1.fit(dataset, epochs=60)"
   ]
  },
  {
   "cell_type": "code",
   "execution_count": 7,
   "id": "ad163c88",
   "metadata": {},
   "outputs": [],
   "source": [
    "for layer in model_mobilenet.layers:\n",
    "    layer.trainable = False"
   ]
  },
  {
   "cell_type": "code",
   "execution_count": 8,
   "id": "a88f00f8",
   "metadata": {},
   "outputs": [],
   "source": [
    "model_mobilenet.get_layer(name='predictions').trainable = True"
   ]
  },
  {
   "cell_type": "code",
   "execution_count": 9,
   "id": "02c2a446",
   "metadata": {},
   "outputs": [],
   "source": [
    "model_0 = tf.keras.models.Sequential([\n",
    "    model_mobilenet,\n",
    "    tf.keras.layers.Dense(64, activation='relu'),\n",
    "    tf.keras.layers.Dense(1, activation='sigmoid')\n",
    "])"
   ]
  },
  {
   "cell_type": "code",
   "execution_count": 10,
   "id": "96ed3c1d",
   "metadata": {},
   "outputs": [],
   "source": [
    "model_0.compile(optimizer='adam', loss='binary_crossentropy', metrics=['accuracy', 'Precision', 'Recall'])"
   ]
  },
  {
   "cell_type": "code",
   "execution_count": 11,
   "id": "b4f2a4a1",
   "metadata": {},
   "outputs": [
    {
     "name": "stdout",
     "output_type": "stream",
     "text": [
      "Model: \"sequential\"\n",
      "_________________________________________________________________\n",
      " Layer (type)                Output Shape              Param #   \n",
      "=================================================================\n",
      " mobilenet_1.00_224 (Functio  (None, 1000)             4253864   \n",
      " nal)                                                            \n",
      "                                                                 \n",
      " dense (Dense)               (None, 64)                64064     \n",
      "                                                                 \n",
      " dense_1 (Dense)             (None, 1)                 65        \n",
      "                                                                 \n",
      "=================================================================\n",
      "Total params: 4,317,993\n",
      "Trainable params: 64,129\n",
      "Non-trainable params: 4,253,864\n",
      "_________________________________________________________________\n"
     ]
    }
   ],
   "source": [
    "model_0.summary()"
   ]
  },
  {
   "cell_type": "code",
   "execution_count": 16,
   "id": "d68d0159",
   "metadata": {},
   "outputs": [
    {
     "name": "stdout",
     "output_type": "stream",
     "text": [
      "Epoch 1/100\n"
     ]
    },
    {
     "ename": "InvalidArgumentError",
     "evalue": "Graph execution error:\n\nDetected at node 'LogicalAnd' defined at (most recent call last):\n    File \"C:\\ProgramData\\Anaconda3\\envs\\OD_Test2\\lib\\runpy.py\", line 196, in _run_module_as_main\n      return _run_code(code, main_globals, None,\n    File \"C:\\ProgramData\\Anaconda3\\envs\\OD_Test2\\lib\\runpy.py\", line 86, in _run_code\n      exec(code, run_globals)\n    File \"C:\\ProgramData\\Anaconda3\\envs\\OD_Test2\\lib\\site-packages\\ipykernel_launcher.py\", line 17, in <module>\n      app.launch_new_instance()\n    File \"C:\\ProgramData\\Anaconda3\\envs\\OD_Test2\\lib\\site-packages\\traitlets\\config\\application.py\", line 992, in launch_instance\n      app.start()\n    File \"C:\\ProgramData\\Anaconda3\\envs\\OD_Test2\\lib\\site-packages\\ipykernel\\kernelapp.py\", line 736, in start\n      self.io_loop.start()\n    File \"C:\\ProgramData\\Anaconda3\\envs\\OD_Test2\\lib\\site-packages\\tornado\\platform\\asyncio.py\", line 195, in start\n      self.asyncio_loop.run_forever()\n    File \"C:\\ProgramData\\Anaconda3\\envs\\OD_Test2\\lib\\asyncio\\base_events.py\", line 603, in run_forever\n      self._run_once()\n    File \"C:\\ProgramData\\Anaconda3\\envs\\OD_Test2\\lib\\asyncio\\base_events.py\", line 1909, in _run_once\n      handle._run()\n    File \"C:\\ProgramData\\Anaconda3\\envs\\OD_Test2\\lib\\asyncio\\events.py\", line 80, in _run\n      self._context.run(self._callback, *self._args)\n    File \"C:\\ProgramData\\Anaconda3\\envs\\OD_Test2\\lib\\site-packages\\ipykernel\\kernelbase.py\", line 516, in dispatch_queue\n      await self.process_one()\n    File \"C:\\ProgramData\\Anaconda3\\envs\\OD_Test2\\lib\\site-packages\\ipykernel\\kernelbase.py\", line 505, in process_one\n      await dispatch(*args)\n    File \"C:\\ProgramData\\Anaconda3\\envs\\OD_Test2\\lib\\site-packages\\ipykernel\\kernelbase.py\", line 412, in dispatch_shell\n      await result\n    File \"C:\\ProgramData\\Anaconda3\\envs\\OD_Test2\\lib\\site-packages\\ipykernel\\kernelbase.py\", line 740, in execute_request\n      reply_content = await reply_content\n    File \"C:\\ProgramData\\Anaconda3\\envs\\OD_Test2\\lib\\site-packages\\ipykernel\\ipkernel.py\", line 422, in do_execute\n      res = shell.run_cell(\n    File \"C:\\ProgramData\\Anaconda3\\envs\\OD_Test2\\lib\\site-packages\\ipykernel\\zmqshell.py\", line 546, in run_cell\n      return super().run_cell(*args, **kwargs)\n    File \"C:\\ProgramData\\Anaconda3\\envs\\OD_Test2\\lib\\site-packages\\IPython\\core\\interactiveshell.py\", line 3006, in run_cell\n      result = self._run_cell(\n    File \"C:\\ProgramData\\Anaconda3\\envs\\OD_Test2\\lib\\site-packages\\IPython\\core\\interactiveshell.py\", line 3061, in _run_cell\n      result = runner(coro)\n    File \"C:\\ProgramData\\Anaconda3\\envs\\OD_Test2\\lib\\site-packages\\IPython\\core\\async_helpers.py\", line 129, in _pseudo_sync_runner\n      coro.send(None)\n    File \"C:\\ProgramData\\Anaconda3\\envs\\OD_Test2\\lib\\site-packages\\IPython\\core\\interactiveshell.py\", line 3266, in run_cell_async\n      has_raised = await self.run_ast_nodes(code_ast.body, cell_name,\n    File \"C:\\ProgramData\\Anaconda3\\envs\\OD_Test2\\lib\\site-packages\\IPython\\core\\interactiveshell.py\", line 3445, in run_ast_nodes\n      if await self.run_code(code, result, async_=asy):\n    File \"C:\\ProgramData\\Anaconda3\\envs\\OD_Test2\\lib\\site-packages\\IPython\\core\\interactiveshell.py\", line 3505, in run_code\n      exec(code_obj, self.user_global_ns, self.user_ns)\n    File \"C:\\Users\\tiba.FGE\\AppData\\Local\\Temp\\ipykernel_14440\\1272881498.py\", line 1, in <module>\n      model_0.fit(train_data, steps_per_epoch=train_data.n//train_data.batch_size, epochs=100)\n    File \"C:\\ProgramData\\Anaconda3\\envs\\OD_Test2\\lib\\site-packages\\keras\\utils\\traceback_utils.py\", line 65, in error_handler\n      return fn(*args, **kwargs)\n    File \"C:\\ProgramData\\Anaconda3\\envs\\OD_Test2\\lib\\site-packages\\keras\\engine\\training.py\", line 1564, in fit\n      tmp_logs = self.train_function(iterator)\n    File \"C:\\ProgramData\\Anaconda3\\envs\\OD_Test2\\lib\\site-packages\\keras\\engine\\training.py\", line 1160, in train_function\n      return step_function(self, iterator)\n    File \"C:\\ProgramData\\Anaconda3\\envs\\OD_Test2\\lib\\site-packages\\keras\\engine\\training.py\", line 1146, in step_function\n      outputs = model.distribute_strategy.run(run_step, args=(data,))\n    File \"C:\\ProgramData\\Anaconda3\\envs\\OD_Test2\\lib\\site-packages\\keras\\engine\\training.py\", line 1135, in run_step\n      outputs = model.train_step(data)\n    File \"C:\\ProgramData\\Anaconda3\\envs\\OD_Test2\\lib\\site-packages\\keras\\engine\\training.py\", line 998, in train_step\n      return self.compute_metrics(x, y, y_pred, sample_weight)\n    File \"C:\\ProgramData\\Anaconda3\\envs\\OD_Test2\\lib\\site-packages\\keras\\engine\\training.py\", line 1092, in compute_metrics\n      self.compiled_metrics.update_state(y, y_pred, sample_weight)\n    File \"C:\\ProgramData\\Anaconda3\\envs\\OD_Test2\\lib\\site-packages\\keras\\engine\\compile_utils.py\", line 605, in update_state\n      metric_obj.update_state(y_t, y_p, sample_weight=mask)\n    File \"C:\\ProgramData\\Anaconda3\\envs\\OD_Test2\\lib\\site-packages\\keras\\utils\\metrics_utils.py\", line 77, in decorated\n      update_op = update_state_fn(*args, **kwargs)\n    File \"C:\\ProgramData\\Anaconda3\\envs\\OD_Test2\\lib\\site-packages\\keras\\metrics\\base_metric.py\", line 143, in update_state_fn\n      return ag_update_state(*args, **kwargs)\n    File \"C:\\ProgramData\\Anaconda3\\envs\\OD_Test2\\lib\\site-packages\\keras\\metrics\\metrics.py\", line 906, in update_state\n      return metrics_utils.update_confusion_matrix_variables(\n    File \"C:\\ProgramData\\Anaconda3\\envs\\OD_Test2\\lib\\site-packages\\keras\\utils\\metrics_utils.py\", line 791, in update_confusion_matrix_variables\n      weighted_assign_add(\n    File \"C:\\ProgramData\\Anaconda3\\envs\\OD_Test2\\lib\\site-packages\\keras\\utils\\metrics_utils.py\", line 762, in weighted_assign_add\n      label_and_pred = tf.cast(tf.logical_and(label, pred), dtype=var.dtype)\nNode: 'LogicalAnd'\nIncompatible shapes: [1,10] vs. [1,20]\n\t [[{{node LogicalAnd}}]] [Op:__inference_train_function_5288]",
     "output_type": "error",
     "traceback": [
      "\u001b[1;31m---------------------------------------------------------------------------\u001b[0m",
      "\u001b[1;31mInvalidArgumentError\u001b[0m                      Traceback (most recent call last)",
      "Cell \u001b[1;32mIn[16], line 1\u001b[0m\n\u001b[1;32m----> 1\u001b[0m \u001b[43mmodel_0\u001b[49m\u001b[38;5;241;43m.\u001b[39;49m\u001b[43mfit\u001b[49m\u001b[43m(\u001b[49m\u001b[43mtrain_data\u001b[49m\u001b[43m,\u001b[49m\u001b[43m \u001b[49m\u001b[43msteps_per_epoch\u001b[49m\u001b[38;5;241;43m=\u001b[39;49m\u001b[43mtrain_data\u001b[49m\u001b[38;5;241;43m.\u001b[39;49m\u001b[43mn\u001b[49m\u001b[38;5;241;43m/\u001b[39;49m\u001b[38;5;241;43m/\u001b[39;49m\u001b[43mtrain_data\u001b[49m\u001b[38;5;241;43m.\u001b[39;49m\u001b[43mbatch_size\u001b[49m\u001b[43m,\u001b[49m\u001b[43m \u001b[49m\u001b[43mepochs\u001b[49m\u001b[38;5;241;43m=\u001b[39;49m\u001b[38;5;241;43m100\u001b[39;49m\u001b[43m)\u001b[49m\n",
      "File \u001b[1;32mC:\\ProgramData\\Anaconda3\\envs\\OD_Test2\\lib\\site-packages\\keras\\utils\\traceback_utils.py:70\u001b[0m, in \u001b[0;36mfilter_traceback.<locals>.error_handler\u001b[1;34m(*args, **kwargs)\u001b[0m\n\u001b[0;32m     67\u001b[0m     filtered_tb \u001b[38;5;241m=\u001b[39m _process_traceback_frames(e\u001b[38;5;241m.\u001b[39m__traceback__)\n\u001b[0;32m     68\u001b[0m     \u001b[38;5;66;03m# To get the full stack trace, call:\u001b[39;00m\n\u001b[0;32m     69\u001b[0m     \u001b[38;5;66;03m# `tf.debugging.disable_traceback_filtering()`\u001b[39;00m\n\u001b[1;32m---> 70\u001b[0m     \u001b[38;5;28;01mraise\u001b[39;00m e\u001b[38;5;241m.\u001b[39mwith_traceback(filtered_tb) \u001b[38;5;28;01mfrom\u001b[39;00m \u001b[38;5;28;01mNone\u001b[39;00m\n\u001b[0;32m     71\u001b[0m \u001b[38;5;28;01mfinally\u001b[39;00m:\n\u001b[0;32m     72\u001b[0m     \u001b[38;5;28;01mdel\u001b[39;00m filtered_tb\n",
      "File \u001b[1;32mC:\\ProgramData\\Anaconda3\\envs\\OD_Test2\\lib\\site-packages\\tensorflow\\python\\eager\\execute.py:54\u001b[0m, in \u001b[0;36mquick_execute\u001b[1;34m(op_name, num_outputs, inputs, attrs, ctx, name)\u001b[0m\n\u001b[0;32m     52\u001b[0m \u001b[38;5;28;01mtry\u001b[39;00m:\n\u001b[0;32m     53\u001b[0m   ctx\u001b[38;5;241m.\u001b[39mensure_initialized()\n\u001b[1;32m---> 54\u001b[0m   tensors \u001b[38;5;241m=\u001b[39m pywrap_tfe\u001b[38;5;241m.\u001b[39mTFE_Py_Execute(ctx\u001b[38;5;241m.\u001b[39m_handle, device_name, op_name,\n\u001b[0;32m     55\u001b[0m                                       inputs, attrs, num_outputs)\n\u001b[0;32m     56\u001b[0m \u001b[38;5;28;01mexcept\u001b[39;00m core\u001b[38;5;241m.\u001b[39m_NotOkStatusException \u001b[38;5;28;01mas\u001b[39;00m e:\n\u001b[0;32m     57\u001b[0m   \u001b[38;5;28;01mif\u001b[39;00m name \u001b[38;5;129;01mis\u001b[39;00m \u001b[38;5;129;01mnot\u001b[39;00m \u001b[38;5;28;01mNone\u001b[39;00m:\n",
      "\u001b[1;31mInvalidArgumentError\u001b[0m: Graph execution error:\n\nDetected at node 'LogicalAnd' defined at (most recent call last):\n    File \"C:\\ProgramData\\Anaconda3\\envs\\OD_Test2\\lib\\runpy.py\", line 196, in _run_module_as_main\n      return _run_code(code, main_globals, None,\n    File \"C:\\ProgramData\\Anaconda3\\envs\\OD_Test2\\lib\\runpy.py\", line 86, in _run_code\n      exec(code, run_globals)\n    File \"C:\\ProgramData\\Anaconda3\\envs\\OD_Test2\\lib\\site-packages\\ipykernel_launcher.py\", line 17, in <module>\n      app.launch_new_instance()\n    File \"C:\\ProgramData\\Anaconda3\\envs\\OD_Test2\\lib\\site-packages\\traitlets\\config\\application.py\", line 992, in launch_instance\n      app.start()\n    File \"C:\\ProgramData\\Anaconda3\\envs\\OD_Test2\\lib\\site-packages\\ipykernel\\kernelapp.py\", line 736, in start\n      self.io_loop.start()\n    File \"C:\\ProgramData\\Anaconda3\\envs\\OD_Test2\\lib\\site-packages\\tornado\\platform\\asyncio.py\", line 195, in start\n      self.asyncio_loop.run_forever()\n    File \"C:\\ProgramData\\Anaconda3\\envs\\OD_Test2\\lib\\asyncio\\base_events.py\", line 603, in run_forever\n      self._run_once()\n    File \"C:\\ProgramData\\Anaconda3\\envs\\OD_Test2\\lib\\asyncio\\base_events.py\", line 1909, in _run_once\n      handle._run()\n    File \"C:\\ProgramData\\Anaconda3\\envs\\OD_Test2\\lib\\asyncio\\events.py\", line 80, in _run\n      self._context.run(self._callback, *self._args)\n    File \"C:\\ProgramData\\Anaconda3\\envs\\OD_Test2\\lib\\site-packages\\ipykernel\\kernelbase.py\", line 516, in dispatch_queue\n      await self.process_one()\n    File \"C:\\ProgramData\\Anaconda3\\envs\\OD_Test2\\lib\\site-packages\\ipykernel\\kernelbase.py\", line 505, in process_one\n      await dispatch(*args)\n    File \"C:\\ProgramData\\Anaconda3\\envs\\OD_Test2\\lib\\site-packages\\ipykernel\\kernelbase.py\", line 412, in dispatch_shell\n      await result\n    File \"C:\\ProgramData\\Anaconda3\\envs\\OD_Test2\\lib\\site-packages\\ipykernel\\kernelbase.py\", line 740, in execute_request\n      reply_content = await reply_content\n    File \"C:\\ProgramData\\Anaconda3\\envs\\OD_Test2\\lib\\site-packages\\ipykernel\\ipkernel.py\", line 422, in do_execute\n      res = shell.run_cell(\n    File \"C:\\ProgramData\\Anaconda3\\envs\\OD_Test2\\lib\\site-packages\\ipykernel\\zmqshell.py\", line 546, in run_cell\n      return super().run_cell(*args, **kwargs)\n    File \"C:\\ProgramData\\Anaconda3\\envs\\OD_Test2\\lib\\site-packages\\IPython\\core\\interactiveshell.py\", line 3006, in run_cell\n      result = self._run_cell(\n    File \"C:\\ProgramData\\Anaconda3\\envs\\OD_Test2\\lib\\site-packages\\IPython\\core\\interactiveshell.py\", line 3061, in _run_cell\n      result = runner(coro)\n    File \"C:\\ProgramData\\Anaconda3\\envs\\OD_Test2\\lib\\site-packages\\IPython\\core\\async_helpers.py\", line 129, in _pseudo_sync_runner\n      coro.send(None)\n    File \"C:\\ProgramData\\Anaconda3\\envs\\OD_Test2\\lib\\site-packages\\IPython\\core\\interactiveshell.py\", line 3266, in run_cell_async\n      has_raised = await self.run_ast_nodes(code_ast.body, cell_name,\n    File \"C:\\ProgramData\\Anaconda3\\envs\\OD_Test2\\lib\\site-packages\\IPython\\core\\interactiveshell.py\", line 3445, in run_ast_nodes\n      if await self.run_code(code, result, async_=asy):\n    File \"C:\\ProgramData\\Anaconda3\\envs\\OD_Test2\\lib\\site-packages\\IPython\\core\\interactiveshell.py\", line 3505, in run_code\n      exec(code_obj, self.user_global_ns, self.user_ns)\n    File \"C:\\Users\\tiba.FGE\\AppData\\Local\\Temp\\ipykernel_14440\\1272881498.py\", line 1, in <module>\n      model_0.fit(train_data, steps_per_epoch=train_data.n//train_data.batch_size, epochs=100)\n    File \"C:\\ProgramData\\Anaconda3\\envs\\OD_Test2\\lib\\site-packages\\keras\\utils\\traceback_utils.py\", line 65, in error_handler\n      return fn(*args, **kwargs)\n    File \"C:\\ProgramData\\Anaconda3\\envs\\OD_Test2\\lib\\site-packages\\keras\\engine\\training.py\", line 1564, in fit\n      tmp_logs = self.train_function(iterator)\n    File \"C:\\ProgramData\\Anaconda3\\envs\\OD_Test2\\lib\\site-packages\\keras\\engine\\training.py\", line 1160, in train_function\n      return step_function(self, iterator)\n    File \"C:\\ProgramData\\Anaconda3\\envs\\OD_Test2\\lib\\site-packages\\keras\\engine\\training.py\", line 1146, in step_function\n      outputs = model.distribute_strategy.run(run_step, args=(data,))\n    File \"C:\\ProgramData\\Anaconda3\\envs\\OD_Test2\\lib\\site-packages\\keras\\engine\\training.py\", line 1135, in run_step\n      outputs = model.train_step(data)\n    File \"C:\\ProgramData\\Anaconda3\\envs\\OD_Test2\\lib\\site-packages\\keras\\engine\\training.py\", line 998, in train_step\n      return self.compute_metrics(x, y, y_pred, sample_weight)\n    File \"C:\\ProgramData\\Anaconda3\\envs\\OD_Test2\\lib\\site-packages\\keras\\engine\\training.py\", line 1092, in compute_metrics\n      self.compiled_metrics.update_state(y, y_pred, sample_weight)\n    File \"C:\\ProgramData\\Anaconda3\\envs\\OD_Test2\\lib\\site-packages\\keras\\engine\\compile_utils.py\", line 605, in update_state\n      metric_obj.update_state(y_t, y_p, sample_weight=mask)\n    File \"C:\\ProgramData\\Anaconda3\\envs\\OD_Test2\\lib\\site-packages\\keras\\utils\\metrics_utils.py\", line 77, in decorated\n      update_op = update_state_fn(*args, **kwargs)\n    File \"C:\\ProgramData\\Anaconda3\\envs\\OD_Test2\\lib\\site-packages\\keras\\metrics\\base_metric.py\", line 143, in update_state_fn\n      return ag_update_state(*args, **kwargs)\n    File \"C:\\ProgramData\\Anaconda3\\envs\\OD_Test2\\lib\\site-packages\\keras\\metrics\\metrics.py\", line 906, in update_state\n      return metrics_utils.update_confusion_matrix_variables(\n    File \"C:\\ProgramData\\Anaconda3\\envs\\OD_Test2\\lib\\site-packages\\keras\\utils\\metrics_utils.py\", line 791, in update_confusion_matrix_variables\n      weighted_assign_add(\n    File \"C:\\ProgramData\\Anaconda3\\envs\\OD_Test2\\lib\\site-packages\\keras\\utils\\metrics_utils.py\", line 762, in weighted_assign_add\n      label_and_pred = tf.cast(tf.logical_and(label, pred), dtype=var.dtype)\nNode: 'LogicalAnd'\nIncompatible shapes: [1,10] vs. [1,20]\n\t [[{{node LogicalAnd}}]] [Op:__inference_train_function_5288]"
     ]
    }
   ],
   "source": [
    "model_0.fit(train_data, steps_per_epoch=train_data.n//train_data.batch_size, epochs=100)"
   ]
  },
  {
   "cell_type": "markdown",
   "id": "aa9c4e1f",
   "metadata": {},
   "source": [
    "### 1.1 Load Data"
   ]
  },
  {
   "cell_type": "code",
   "execution_count": 50,
   "id": "80a85297",
   "metadata": {},
   "outputs": [
    {
     "name": "stdout",
     "output_type": "stream",
     "text": [
      "Found 253 files belonging to 2 classes.\n",
      "Using 203 files for training.\n"
     ]
    }
   ],
   "source": [
    "dataset = tf.keras.utils.image_dataset_from_directory(\n",
    "    directory,\n",
    "    labels='inferred',\n",
    "    label_mode='int',\n",
    "    color_mode='rgb',\n",
    "    shuffle=True,\n",
    "    batch_size=32,\n",
    "    image_size=(224, 224),\n",
    "    seed=0,\n",
    "    validation_split=0.2,\n",
    "    subset='training',\n",
    ")"
   ]
  },
  {
   "cell_type": "code",
   "execution_count": 103,
   "id": "deaf5997",
   "metadata": {},
   "outputs": [
    {
     "name": "stdout",
     "output_type": "stream",
     "text": [
      "Found 253 files belonging to 2 classes.\n",
      "Using 50 files for validation.\n"
     ]
    }
   ],
   "source": [
    "dataset_test = tf.keras.utils.image_dataset_from_directory(\n",
    "    directory,\n",
    "    labels='inferred',\n",
    "    label_mode='int',\n",
    "    color_mode='rgb',\n",
    "    shuffle=True,\n",
    "    batch_size=32,\n",
    "    image_size=(224, 224),\n",
    "    seed=0,\n",
    "    validation_split=0.2,\n",
    "    subset='validation',\n",
    ")"
   ]
  },
  {
   "cell_type": "markdown",
   "id": "c9587423",
   "metadata": {},
   "source": [
    "### 1.2 Models"
   ]
  },
  {
   "cell_type": "markdown",
   "id": "381ab03f",
   "metadata": {},
   "source": [
    "##### AlexNet"
   ]
  },
  {
   "cell_type": "code",
   "execution_count": 93,
   "id": "92fd8b90",
   "metadata": {},
   "outputs": [],
   "source": [
    "model_mobilenet = tf.keras.applications.MobileNet(weights='W:\\\\Knowledge Base\\\\Models\\\\mobilenet_1_0_224_tf.h5')"
   ]
  },
  {
   "cell_type": "code",
   "execution_count": 94,
   "id": "22c7f798",
   "metadata": {},
   "outputs": [
    {
     "name": "stdout",
     "output_type": "stream",
     "text": [
      "Model: \"mobilenet_1.00_224\"\n",
      "_________________________________________________________________\n",
      " Layer (type)                Output Shape              Param #   \n",
      "=================================================================\n",
      " input_5 (InputLayer)        [(None, 224, 224, 3)]     0         \n",
      "                                                                 \n",
      " conv1 (Conv2D)              (None, 112, 112, 32)      864       \n",
      "                                                                 \n",
      " conv1_bn (BatchNormalizatio  (None, 112, 112, 32)     128       \n",
      " n)                                                              \n",
      "                                                                 \n",
      " conv1_relu (ReLU)           (None, 112, 112, 32)      0         \n",
      "                                                                 \n",
      " conv_dw_1 (DepthwiseConv2D)  (None, 112, 112, 32)     288       \n",
      "                                                                 \n",
      " conv_dw_1_bn (BatchNormaliz  (None, 112, 112, 32)     128       \n",
      " ation)                                                          \n",
      "                                                                 \n",
      " conv_dw_1_relu (ReLU)       (None, 112, 112, 32)      0         \n",
      "                                                                 \n",
      " conv_pw_1 (Conv2D)          (None, 112, 112, 64)      2048      \n",
      "                                                                 \n",
      " conv_pw_1_bn (BatchNormaliz  (None, 112, 112, 64)     256       \n",
      " ation)                                                          \n",
      "                                                                 \n",
      " conv_pw_1_relu (ReLU)       (None, 112, 112, 64)      0         \n",
      "                                                                 \n",
      " conv_pad_2 (ZeroPadding2D)  (None, 113, 113, 64)      0         \n",
      "                                                                 \n",
      " conv_dw_2 (DepthwiseConv2D)  (None, 56, 56, 64)       576       \n",
      "                                                                 \n",
      " conv_dw_2_bn (BatchNormaliz  (None, 56, 56, 64)       256       \n",
      " ation)                                                          \n",
      "                                                                 \n",
      " conv_dw_2_relu (ReLU)       (None, 56, 56, 64)        0         \n",
      "                                                                 \n",
      " conv_pw_2 (Conv2D)          (None, 56, 56, 128)       8192      \n",
      "                                                                 \n",
      " conv_pw_2_bn (BatchNormaliz  (None, 56, 56, 128)      512       \n",
      " ation)                                                          \n",
      "                                                                 \n",
      " conv_pw_2_relu (ReLU)       (None, 56, 56, 128)       0         \n",
      "                                                                 \n",
      " conv_dw_3 (DepthwiseConv2D)  (None, 56, 56, 128)      1152      \n",
      "                                                                 \n",
      " conv_dw_3_bn (BatchNormaliz  (None, 56, 56, 128)      512       \n",
      " ation)                                                          \n",
      "                                                                 \n",
      " conv_dw_3_relu (ReLU)       (None, 56, 56, 128)       0         \n",
      "                                                                 \n",
      " conv_pw_3 (Conv2D)          (None, 56, 56, 128)       16384     \n",
      "                                                                 \n",
      " conv_pw_3_bn (BatchNormaliz  (None, 56, 56, 128)      512       \n",
      " ation)                                                          \n",
      "                                                                 \n",
      " conv_pw_3_relu (ReLU)       (None, 56, 56, 128)       0         \n",
      "                                                                 \n",
      " conv_pad_4 (ZeroPadding2D)  (None, 57, 57, 128)       0         \n",
      "                                                                 \n",
      " conv_dw_4 (DepthwiseConv2D)  (None, 28, 28, 128)      1152      \n",
      "                                                                 \n",
      " conv_dw_4_bn (BatchNormaliz  (None, 28, 28, 128)      512       \n",
      " ation)                                                          \n",
      "                                                                 \n",
      " conv_dw_4_relu (ReLU)       (None, 28, 28, 128)       0         \n",
      "                                                                 \n",
      " conv_pw_4 (Conv2D)          (None, 28, 28, 256)       32768     \n",
      "                                                                 \n",
      " conv_pw_4_bn (BatchNormaliz  (None, 28, 28, 256)      1024      \n",
      " ation)                                                          \n",
      "                                                                 \n",
      " conv_pw_4_relu (ReLU)       (None, 28, 28, 256)       0         \n",
      "                                                                 \n",
      " conv_dw_5 (DepthwiseConv2D)  (None, 28, 28, 256)      2304      \n",
      "                                                                 \n",
      " conv_dw_5_bn (BatchNormaliz  (None, 28, 28, 256)      1024      \n",
      " ation)                                                          \n",
      "                                                                 \n",
      " conv_dw_5_relu (ReLU)       (None, 28, 28, 256)       0         \n",
      "                                                                 \n",
      " conv_pw_5 (Conv2D)          (None, 28, 28, 256)       65536     \n",
      "                                                                 \n",
      " conv_pw_5_bn (BatchNormaliz  (None, 28, 28, 256)      1024      \n",
      " ation)                                                          \n",
      "                                                                 \n",
      " conv_pw_5_relu (ReLU)       (None, 28, 28, 256)       0         \n",
      "                                                                 \n",
      " conv_pad_6 (ZeroPadding2D)  (None, 29, 29, 256)       0         \n",
      "                                                                 \n",
      " conv_dw_6 (DepthwiseConv2D)  (None, 14, 14, 256)      2304      \n",
      "                                                                 \n",
      " conv_dw_6_bn (BatchNormaliz  (None, 14, 14, 256)      1024      \n",
      " ation)                                                          \n",
      "                                                                 \n",
      " conv_dw_6_relu (ReLU)       (None, 14, 14, 256)       0         \n",
      "                                                                 \n",
      " conv_pw_6 (Conv2D)          (None, 14, 14, 512)       131072    \n",
      "                                                                 \n",
      " conv_pw_6_bn (BatchNormaliz  (None, 14, 14, 512)      2048      \n",
      " ation)                                                          \n",
      "                                                                 \n",
      " conv_pw_6_relu (ReLU)       (None, 14, 14, 512)       0         \n",
      "                                                                 \n",
      " conv_dw_7 (DepthwiseConv2D)  (None, 14, 14, 512)      4608      \n",
      "                                                                 \n",
      " conv_dw_7_bn (BatchNormaliz  (None, 14, 14, 512)      2048      \n",
      " ation)                                                          \n",
      "                                                                 \n",
      " conv_dw_7_relu (ReLU)       (None, 14, 14, 512)       0         \n",
      "                                                                 \n",
      " conv_pw_7 (Conv2D)          (None, 14, 14, 512)       262144    \n",
      "                                                                 \n",
      " conv_pw_7_bn (BatchNormaliz  (None, 14, 14, 512)      2048      \n",
      " ation)                                                          \n",
      "                                                                 \n",
      " conv_pw_7_relu (ReLU)       (None, 14, 14, 512)       0         \n",
      "                                                                 \n",
      " conv_dw_8 (DepthwiseConv2D)  (None, 14, 14, 512)      4608      \n",
      "                                                                 \n",
      " conv_dw_8_bn (BatchNormaliz  (None, 14, 14, 512)      2048      \n",
      " ation)                                                          \n",
      "                                                                 \n",
      " conv_dw_8_relu (ReLU)       (None, 14, 14, 512)       0         \n",
      "                                                                 \n",
      " conv_pw_8 (Conv2D)          (None, 14, 14, 512)       262144    \n"
     ]
    },
    {
     "name": "stdout",
     "output_type": "stream",
     "text": [
      "                                                                 \n",
      " conv_pw_8_bn (BatchNormaliz  (None, 14, 14, 512)      2048      \n",
      " ation)                                                          \n",
      "                                                                 \n",
      " conv_pw_8_relu (ReLU)       (None, 14, 14, 512)       0         \n",
      "                                                                 \n",
      " conv_dw_9 (DepthwiseConv2D)  (None, 14, 14, 512)      4608      \n",
      "                                                                 \n",
      " conv_dw_9_bn (BatchNormaliz  (None, 14, 14, 512)      2048      \n",
      " ation)                                                          \n",
      "                                                                 \n",
      " conv_dw_9_relu (ReLU)       (None, 14, 14, 512)       0         \n",
      "                                                                 \n",
      " conv_pw_9 (Conv2D)          (None, 14, 14, 512)       262144    \n",
      "                                                                 \n",
      " conv_pw_9_bn (BatchNormaliz  (None, 14, 14, 512)      2048      \n",
      " ation)                                                          \n",
      "                                                                 \n",
      " conv_pw_9_relu (ReLU)       (None, 14, 14, 512)       0         \n",
      "                                                                 \n",
      " conv_dw_10 (DepthwiseConv2D  (None, 14, 14, 512)      4608      \n",
      " )                                                               \n",
      "                                                                 \n",
      " conv_dw_10_bn (BatchNormali  (None, 14, 14, 512)      2048      \n",
      " zation)                                                         \n",
      "                                                                 \n",
      " conv_dw_10_relu (ReLU)      (None, 14, 14, 512)       0         \n",
      "                                                                 \n",
      " conv_pw_10 (Conv2D)         (None, 14, 14, 512)       262144    \n",
      "                                                                 \n",
      " conv_pw_10_bn (BatchNormali  (None, 14, 14, 512)      2048      \n",
      " zation)                                                         \n",
      "                                                                 \n",
      " conv_pw_10_relu (ReLU)      (None, 14, 14, 512)       0         \n",
      "                                                                 \n",
      " conv_dw_11 (DepthwiseConv2D  (None, 14, 14, 512)      4608      \n",
      " )                                                               \n",
      "                                                                 \n",
      " conv_dw_11_bn (BatchNormali  (None, 14, 14, 512)      2048      \n",
      " zation)                                                         \n",
      "                                                                 \n",
      " conv_dw_11_relu (ReLU)      (None, 14, 14, 512)       0         \n",
      "                                                                 \n",
      " conv_pw_11 (Conv2D)         (None, 14, 14, 512)       262144    \n",
      "                                                                 \n",
      " conv_pw_11_bn (BatchNormali  (None, 14, 14, 512)      2048      \n",
      " zation)                                                         \n",
      "                                                                 \n",
      " conv_pw_11_relu (ReLU)      (None, 14, 14, 512)       0         \n",
      "                                                                 \n",
      " conv_pad_12 (ZeroPadding2D)  (None, 15, 15, 512)      0         \n",
      "                                                                 \n",
      " conv_dw_12 (DepthwiseConv2D  (None, 7, 7, 512)        4608      \n",
      " )                                                               \n",
      "                                                                 \n",
      " conv_dw_12_bn (BatchNormali  (None, 7, 7, 512)        2048      \n",
      " zation)                                                         \n",
      "                                                                 \n",
      " conv_dw_12_relu (ReLU)      (None, 7, 7, 512)         0         \n",
      "                                                                 \n",
      " conv_pw_12 (Conv2D)         (None, 7, 7, 1024)        524288    \n",
      "                                                                 \n",
      " conv_pw_12_bn (BatchNormali  (None, 7, 7, 1024)       4096      \n",
      " zation)                                                         \n",
      "                                                                 \n",
      " conv_pw_12_relu (ReLU)      (None, 7, 7, 1024)        0         \n",
      "                                                                 \n",
      " conv_dw_13 (DepthwiseConv2D  (None, 7, 7, 1024)       9216      \n",
      " )                                                               \n",
      "                                                                 \n",
      " conv_dw_13_bn (BatchNormali  (None, 7, 7, 1024)       4096      \n",
      " zation)                                                         \n",
      "                                                                 \n",
      " conv_dw_13_relu (ReLU)      (None, 7, 7, 1024)        0         \n",
      "                                                                 \n",
      " conv_pw_13 (Conv2D)         (None, 7, 7, 1024)        1048576   \n",
      "                                                                 \n",
      " conv_pw_13_bn (BatchNormali  (None, 7, 7, 1024)       4096      \n",
      " zation)                                                         \n",
      "                                                                 \n",
      " conv_pw_13_relu (ReLU)      (None, 7, 7, 1024)        0         \n",
      "                                                                 \n",
      " global_average_pooling2d_1   (None, 1, 1, 1024)       0         \n",
      " (GlobalAveragePooling2D)                                        \n",
      "                                                                 \n",
      " dropout (Dropout)           (None, 1, 1, 1024)        0         \n",
      "                                                                 \n",
      " conv_preds (Conv2D)         (None, 1, 1, 1000)        1025000   \n",
      "                                                                 \n",
      " reshape_2 (Reshape)         (None, 1000)              0         \n",
      "                                                                 \n",
      " predictions (Activation)    (None, 1000)              0         \n",
      "                                                                 \n",
      "=================================================================\n",
      "Total params: 4,253,864\n",
      "Trainable params: 4,231,976\n",
      "Non-trainable params: 21,888\n",
      "_________________________________________________________________\n"
     ]
    }
   ],
   "source": [
    "model_alexnet.summary()"
   ]
  },
  {
   "cell_type": "code",
   "execution_count": 95,
   "id": "ada8145b",
   "metadata": {},
   "outputs": [],
   "source": [
    "for layer in model_mobilenet.layers:\n",
    "    layer.trainable = False"
   ]
  },
  {
   "cell_type": "code",
   "execution_count": 96,
   "id": "a96dae6e",
   "metadata": {},
   "outputs": [],
   "source": [
    "model_mobilenet.get_layer(name='predictions').trainable = True"
   ]
  },
  {
   "cell_type": "code",
   "execution_count": 97,
   "id": "c0b92a94",
   "metadata": {},
   "outputs": [],
   "source": [
    "model_0 = tf.keras.models.Sequential([\n",
    "    model_mobilenet,\n",
    "    tf.keras.layers.Dense(64, activation='relu'),\n",
    "    tf.keras.layers.Dense(1, activation='sigmoid')\n",
    "])"
   ]
  },
  {
   "cell_type": "code",
   "execution_count": 98,
   "id": "b0bd1c6a",
   "metadata": {},
   "outputs": [],
   "source": [
    "model_0.compile(optimizer='adam', loss='binary_crossentropy', metrics=['accuracy', 'Precision', 'Recall'])"
   ]
  },
  {
   "cell_type": "code",
   "execution_count": 99,
   "id": "5a30775e",
   "metadata": {},
   "outputs": [
    {
     "name": "stdout",
     "output_type": "stream",
     "text": [
      "Model: \"sequential_10\"\n",
      "_________________________________________________________________\n",
      " Layer (type)                Output Shape              Param #   \n",
      "=================================================================\n",
      " mobilenet_1.00_224 (Functio  (None, 1000)             4253864   \n",
      " nal)                                                            \n",
      "                                                                 \n",
      " dense_20 (Dense)            (None, 64)                64064     \n",
      "                                                                 \n",
      " dense_21 (Dense)            (None, 1)                 65        \n",
      "                                                                 \n",
      "=================================================================\n",
      "Total params: 4,317,993\n",
      "Trainable params: 64,129\n",
      "Non-trainable params: 4,253,864\n",
      "_________________________________________________________________\n"
     ]
    }
   ],
   "source": [
    "model_0.summary()"
   ]
  },
  {
   "cell_type": "code",
   "execution_count": 101,
   "id": "7f00343a",
   "metadata": {},
   "outputs": [
    {
     "name": "stdout",
     "output_type": "stream",
     "text": [
      "Epoch 1/60\n",
      "7/7 [==============================] - 11s 1s/step - loss: 0.4804 - accuracy: 0.7931 - precision: 0.8045 - recall: 0.8699\n",
      "Epoch 2/60\n",
      "7/7 [==============================] - 11s 1s/step - loss: 0.4753 - accuracy: 0.8030 - precision: 0.8120 - recall: 0.8780\n",
      "Epoch 3/60\n",
      "7/7 [==============================] - 11s 2s/step - loss: 0.4707 - accuracy: 0.8079 - precision: 0.8134 - recall: 0.8862\n",
      "Epoch 4/60\n",
      "7/7 [==============================] - 10s 1s/step - loss: 0.4625 - accuracy: 0.8177 - precision: 0.8258 - recall: 0.8862\n",
      "Epoch 5/60\n",
      "7/7 [==============================] - 10s 1s/step - loss: 0.4561 - accuracy: 0.8227 - precision: 0.8372 - recall: 0.8780\n",
      "Epoch 6/60\n",
      "7/7 [==============================] - 10s 1s/step - loss: 0.4533 - accuracy: 0.8177 - precision: 0.8359 - recall: 0.8699\n",
      "Epoch 7/60\n",
      "7/7 [==============================] - 10s 1s/step - loss: 0.4435 - accuracy: 0.8227 - precision: 0.8321 - recall: 0.8862\n",
      "Epoch 8/60\n",
      "7/7 [==============================] - 10s 1s/step - loss: 0.4437 - accuracy: 0.7980 - precision: 0.8106 - recall: 0.8699\n",
      "Epoch 9/60\n",
      "7/7 [==============================] - 10s 1s/step - loss: 0.4341 - accuracy: 0.8227 - precision: 0.8222 - recall: 0.9024\n",
      "Epoch 10/60\n",
      "7/7 [==============================] - 10s 1s/step - loss: 0.4324 - accuracy: 0.8079 - precision: 0.8088 - recall: 0.8943\n",
      "Epoch 11/60\n",
      "7/7 [==============================] - 10s 1s/step - loss: 0.4248 - accuracy: 0.8177 - precision: 0.8258 - recall: 0.8862\n",
      "Epoch 12/60\n",
      "7/7 [==============================] - 10s 1s/step - loss: 0.4254 - accuracy: 0.8079 - precision: 0.8231 - recall: 0.8699\n",
      "Epoch 13/60\n",
      "7/7 [==============================] - 10s 1s/step - loss: 0.4183 - accuracy: 0.8325 - precision: 0.8560 - recall: 0.8699\n",
      "Epoch 14/60\n",
      "7/7 [==============================] - 10s 1s/step - loss: 0.4136 - accuracy: 0.8227 - precision: 0.8425 - recall: 0.8699\n",
      "Epoch 15/60\n",
      "7/7 [==============================] - 10s 1s/step - loss: 0.4106 - accuracy: 0.8227 - precision: 0.8372 - recall: 0.8780\n",
      "Epoch 16/60\n",
      "7/7 [==============================] - 10s 1s/step - loss: 0.4048 - accuracy: 0.8276 - precision: 0.8492 - recall: 0.8699\n",
      "Epoch 17/60\n",
      "7/7 [==============================] - 10s 1s/step - loss: 0.4039 - accuracy: 0.8177 - precision: 0.8308 - recall: 0.8780\n",
      "Epoch 18/60\n",
      "7/7 [==============================] - 10s 1s/step - loss: 0.3998 - accuracy: 0.8177 - precision: 0.8359 - recall: 0.8699\n",
      "Epoch 19/60\n",
      "7/7 [==============================] - 10s 1s/step - loss: 0.3939 - accuracy: 0.8276 - precision: 0.8438 - recall: 0.8780\n",
      "Epoch 20/60\n",
      "7/7 [==============================] - 11s 2s/step - loss: 0.3913 - accuracy: 0.8374 - precision: 0.8571 - recall: 0.8780\n",
      "Epoch 21/60\n",
      "7/7 [==============================] - 10s 1s/step - loss: 0.3874 - accuracy: 0.8276 - precision: 0.8438 - recall: 0.8780\n",
      "Epoch 22/60\n",
      "7/7 [==============================] - 10s 1s/step - loss: 0.3857 - accuracy: 0.8424 - precision: 0.8473 - recall: 0.9024\n",
      "Epoch 23/60\n",
      "7/7 [==============================] - 10s 1s/step - loss: 0.3840 - accuracy: 0.8424 - precision: 0.8421 - recall: 0.9106\n",
      "Epoch 24/60\n",
      "7/7 [==============================] - 10s 1s/step - loss: 0.3786 - accuracy: 0.8473 - precision: 0.8485 - recall: 0.9106\n",
      "Epoch 25/60\n",
      "7/7 [==============================] - 10s 1s/step - loss: 0.3786 - accuracy: 0.8325 - precision: 0.8560 - recall: 0.8699\n",
      "Epoch 26/60\n",
      "7/7 [==============================] - 10s 1s/step - loss: 0.3727 - accuracy: 0.8325 - precision: 0.8504 - recall: 0.8780\n",
      "Epoch 27/60\n",
      "7/7 [==============================] - 10s 1s/step - loss: 0.3694 - accuracy: 0.8473 - precision: 0.8594 - recall: 0.8943\n",
      "Epoch 28/60\n",
      "7/7 [==============================] - 10s 1s/step - loss: 0.3677 - accuracy: 0.8424 - precision: 0.8640 - recall: 0.8780\n",
      "Epoch 29/60\n",
      "7/7 [==============================] - 10s 1s/step - loss: 0.3701 - accuracy: 0.8276 - precision: 0.8492 - recall: 0.8699\n",
      "Epoch 30/60\n",
      "7/7 [==============================] - 10s 1s/step - loss: 0.3668 - accuracy: 0.8276 - precision: 0.8492 - recall: 0.8699\n",
      "Epoch 31/60\n",
      "7/7 [==============================] - 10s 1s/step - loss: 0.3605 - accuracy: 0.8424 - precision: 0.8527 - recall: 0.8943\n",
      "Epoch 32/60\n",
      "7/7 [==============================] - 10s 1s/step - loss: 0.3599 - accuracy: 0.8621 - precision: 0.8571 - recall: 0.9268\n",
      "Epoch 33/60\n",
      "7/7 [==============================] - 10s 1s/step - loss: 0.3561 - accuracy: 0.8473 - precision: 0.8538 - recall: 0.9024\n",
      "Epoch 34/60\n",
      "7/7 [==============================] - 10s 1s/step - loss: 0.3521 - accuracy: 0.8522 - precision: 0.8605 - recall: 0.9024\n",
      "Epoch 35/60\n",
      "7/7 [==============================] - 10s 1s/step - loss: 0.3500 - accuracy: 0.8571 - precision: 0.8615 - recall: 0.9106\n",
      "Epoch 36/60\n",
      "7/7 [==============================] - 10s 1s/step - loss: 0.3529 - accuracy: 0.8571 - precision: 0.8615 - recall: 0.9106\n",
      "Epoch 37/60\n",
      "7/7 [==============================] - 11s 1s/step - loss: 0.3467 - accuracy: 0.8571 - precision: 0.8615 - recall: 0.9106\n",
      "Epoch 38/60\n",
      "7/7 [==============================] - 12s 2s/step - loss: 0.3437 - accuracy: 0.8325 - precision: 0.8560 - recall: 0.8699\n",
      "Epoch 39/60\n",
      "7/7 [==============================] - 11s 1s/step - loss: 0.3424 - accuracy: 0.8325 - precision: 0.8560 - recall: 0.8699\n",
      "Epoch 40/60\n",
      "7/7 [==============================] - 11s 1s/step - loss: 0.3405 - accuracy: 0.8424 - precision: 0.8640 - recall: 0.8780\n",
      "Epoch 41/60\n",
      "7/7 [==============================] - 12s 2s/step - loss: 0.3389 - accuracy: 0.8473 - precision: 0.8594 - recall: 0.8943\n",
      "Epoch 42/60\n",
      "7/7 [==============================] - 12s 2s/step - loss: 0.3373 - accuracy: 0.8374 - precision: 0.8571 - recall: 0.8780\n",
      "Epoch 43/60\n",
      "7/7 [==============================] - 11s 1s/step - loss: 0.3265 - accuracy: 0.8473 - precision: 0.8651 - recall: 0.8862\n",
      "Epoch 44/60\n",
      "7/7 [==============================] - 11s 1s/step - loss: 0.3293 - accuracy: 0.8571 - precision: 0.8730 - recall: 0.8943\n",
      "Epoch 45/60\n",
      "7/7 [==============================] - 11s 1s/step - loss: 0.3303 - accuracy: 0.8571 - precision: 0.8790 - recall: 0.8862\n",
      "Epoch 46/60\n",
      "7/7 [==============================] - 12s 2s/step - loss: 0.3283 - accuracy: 0.8670 - precision: 0.8750 - recall: 0.9106\n",
      "Epoch 47/60\n",
      "7/7 [==============================] - 12s 2s/step - loss: 0.3286 - accuracy: 0.8571 - precision: 0.8672 - recall: 0.9024\n",
      "Epoch 48/60\n",
      "7/7 [==============================] - 14s 2s/step - loss: 0.3245 - accuracy: 0.8522 - precision: 0.8780 - recall: 0.8780\n",
      "Epoch 49/60\n",
      "7/7 [==============================] - 14s 2s/step - loss: 0.3224 - accuracy: 0.8473 - precision: 0.8770 - recall: 0.8699\n",
      "Epoch 50/60\n",
      "7/7 [==============================] - 14s 2s/step - loss: 0.3231 - accuracy: 0.8621 - precision: 0.8926 - recall: 0.8780\n",
      "Epoch 51/60\n",
      "7/7 [==============================] - 12s 1s/step - loss: 0.3220 - accuracy: 0.8571 - precision: 0.8917 - recall: 0.8699\n",
      "Epoch 52/60\n",
      "7/7 [==============================] - 11s 1s/step - loss: 0.3206 - accuracy: 0.8522 - precision: 0.8780 - recall: 0.8780\n",
      "Epoch 53/60\n",
      "7/7 [==============================] - 11s 1s/step - loss: 0.3177 - accuracy: 0.8522 - precision: 0.8661 - recall: 0.8943\n",
      "Epoch 54/60\n",
      "7/7 [==============================] - 11s 1s/step - loss: 0.3157 - accuracy: 0.8818 - precision: 0.8779 - recall: 0.9350\n",
      "Epoch 55/60\n",
      "7/7 [==============================] - 11s 1s/step - loss: 0.3065 - accuracy: 0.8867 - precision: 0.8788 - recall: 0.9431\n",
      "Epoch 56/60\n",
      "7/7 [==============================] - 11s 1s/step - loss: 0.3122 - accuracy: 0.8818 - precision: 0.8722 - recall: 0.9431\n",
      "Epoch 57/60\n",
      "7/7 [==============================] - 12s 2s/step - loss: 0.3123 - accuracy: 0.8670 - precision: 0.8636 - recall: 0.9268\n",
      "Epoch 58/60\n",
      "7/7 [==============================] - 15s 2s/step - loss: 0.3100 - accuracy: 0.8571 - precision: 0.8730 - recall: 0.8943\n",
      "Epoch 59/60\n",
      "7/7 [==============================] - 13s 2s/step - loss: 0.3068 - accuracy: 0.8670 - precision: 0.8871 - recall: 0.8943\n",
      "Epoch 60/60\n",
      "7/7 [==============================] - 13s 2s/step - loss: 0.3054 - accuracy: 0.8768 - precision: 0.8828 - recall: 0.9187\n"
     ]
    },
    {
     "data": {
      "text/plain": [
       "<keras.callbacks.History at 0x288df40b2e0>"
      ]
     },
     "execution_count": 101,
     "metadata": {},
     "output_type": "execute_result"
    }
   ],
   "source": [
    "model_0.fit(dataset, epochs=60)"
   ]
  },
  {
   "cell_type": "code",
   "execution_count": 104,
   "id": "62f5c1b8",
   "metadata": {},
   "outputs": [
    {
     "name": "stdout",
     "output_type": "stream",
     "text": [
      "2/2 [==============================] - 5s 1s/step - loss: 0.5035 - accuracy: 0.8000 - precision: 0.8056 - recall: 0.9062\n"
     ]
    },
    {
     "data": {
      "text/plain": [
       "[0.5035497546195984, 0.800000011920929, 0.8055555820465088, 0.90625]"
      ]
     },
     "execution_count": 104,
     "metadata": {},
     "output_type": "execute_result"
    }
   ],
   "source": [
    "model_0.evaluate(dataset_test)"
   ]
  },
  {
   "cell_type": "markdown",
   "id": "219ff77c",
   "metadata": {},
   "source": [
    "##### 1.2.1 ResNet50"
   ]
  },
  {
   "cell_type": "code",
   "execution_count": 22,
   "id": "e7290e12",
   "metadata": {},
   "outputs": [],
   "source": [
    "resnet50_weights_dir = 'W:\\\\Knowledge Base\\\\Models\\\\resnet50_weights_tf_dim_ordering_tf_kernels.h5'\n",
    "model_resnet50 = resnet50.ResNet50(weights=resnet50_weights_dir)"
   ]
  },
  {
   "cell_type": "code",
   "execution_count": 24,
   "id": "28565d6c",
   "metadata": {},
   "outputs": [],
   "source": [
    "model_1 = tf.keras.models.Sequential([\n",
    "    model_resnet50,\n",
    "    tf.keras.layers.Dense(64, activation='relu'),\n",
    "    tf.keras.layers.Dense(1, activation='sigmoid')]\n",
    ")"
   ]
  },
  {
   "cell_type": "code",
   "execution_count": 25,
   "id": "dea105d4",
   "metadata": {},
   "outputs": [
    {
     "name": "stdout",
     "output_type": "stream",
     "text": [
      "Model: \"sequential_2\"\n",
      "_________________________________________________________________\n",
      " Layer (type)                Output Shape              Param #   \n",
      "=================================================================\n",
      " resnet50 (Functional)       (None, 1000)              25636712  \n",
      "                                                                 \n",
      " dense_4 (Dense)             (None, 64)                64064     \n",
      "                                                                 \n",
      " dense_5 (Dense)             (None, 1)                 65        \n",
      "                                                                 \n",
      "=================================================================\n",
      "Total params: 25,700,841\n",
      "Trainable params: 25,647,721\n",
      "Non-trainable params: 53,120\n",
      "_________________________________________________________________\n"
     ]
    }
   ],
   "source": [
    "model_1.summary()"
   ]
  },
  {
   "cell_type": "code",
   "execution_count": 31,
   "id": "6567531d",
   "metadata": {},
   "outputs": [],
   "source": [
    "model_1.compile(optimizer='adam', loss='binary_crossentropy', metrics=['accuracy', 'Precision', 'Recall'])"
   ]
  },
  {
   "cell_type": "code",
   "execution_count": 32,
   "id": "bdee748d",
   "metadata": {},
   "outputs": [
    {
     "name": "stdout",
     "output_type": "stream",
     "text": [
      "Epoch 1/10\n",
      "26/26 [==============================] - 158s 6s/step - loss: 0.6832 - accuracy: 0.5714 - precision: 0.6059 - recall: 0.8374\n",
      "Epoch 2/10\n",
      "26/26 [==============================] - 141s 5s/step - loss: 0.6701 - accuracy: 0.6059 - precision: 0.6059 - recall: 1.0000\n",
      "Epoch 3/10\n",
      "26/26 [==============================] - 144s 6s/step - loss: 0.6495 - accuracy: 0.6059 - precision: 0.6059 - recall: 1.0000\n",
      "Epoch 4/10\n",
      "26/26 [==============================] - 151s 6s/step - loss: 0.6412 - accuracy: 0.6059 - precision: 0.6059 - recall: 1.0000\n",
      "Epoch 5/10\n",
      "26/26 [==============================] - 147s 6s/step - loss: 0.6239 - accuracy: 0.5911 - precision: 0.6190 - recall: 0.8455\n",
      "Epoch 6/10\n",
      "26/26 [==============================] - 146s 6s/step - loss: 0.6242 - accuracy: 0.6404 - precision: 0.6603 - recall: 0.8374\n",
      "Epoch 7/10\n",
      "26/26 [==============================] - 157s 6s/step - loss: 0.6073 - accuracy: 0.6601 - precision: 0.6800 - recall: 0.8293\n",
      "Epoch 8/10\n",
      "26/26 [==============================] - 159s 6s/step - loss: 0.5924 - accuracy: 0.6897 - precision: 0.8061 - recall: 0.6423\n",
      "Epoch 9/10\n",
      "26/26 [==============================] - 184s 7s/step - loss: 0.6217 - accuracy: 0.6601 - precision: 0.7455 - recall: 0.6667\n",
      "Epoch 10/10\n",
      "26/26 [==============================] - 142s 5s/step - loss: 0.6776 - accuracy: 0.5764 - precision: 0.6504 - recall: 0.6504\n"
     ]
    },
    {
     "data": {
      "text/plain": [
       "<keras.callbacks.History at 0x287afe20c70>"
      ]
     },
     "execution_count": 32,
     "metadata": {},
     "output_type": "execute_result"
    }
   ],
   "source": [
    "model_1.fit(dataset, epochs=10)"
   ]
  },
  {
   "cell_type": "markdown",
   "id": "05ab7ee3",
   "metadata": {},
   "source": [
    "##### -------------------------------------------------------------------------------------------------"
   ]
  },
  {
   "cell_type": "code",
   "execution_count": 36,
   "id": "73da6ce3",
   "metadata": {},
   "outputs": [],
   "source": [
    "model_2 = tf.keras.models.Sequential([\n",
    "    model_resnet50,\n",
    "    tf.keras.layers.Dense(64, activation='relu'),\n",
    "    tf.keras.layers.Dense(1, activation='sigmoid')\n",
    "])"
   ]
  },
  {
   "cell_type": "code",
   "execution_count": 37,
   "id": "907797a4",
   "metadata": {},
   "outputs": [
    {
     "name": "stdout",
     "output_type": "stream",
     "text": [
      "Model: \"sequential_4\"\n",
      "_________________________________________________________________\n",
      " Layer (type)                Output Shape              Param #   \n",
      "=================================================================\n",
      " resnet50 (Functional)       (None, 1000)              25636712  \n",
      "                                                                 \n",
      " dense_8 (Dense)             (None, 64)                64064     \n",
      "                                                                 \n",
      " dense_9 (Dense)             (None, 1)                 65        \n",
      "                                                                 \n",
      "=================================================================\n",
      "Total params: 25,700,841\n",
      "Trainable params: 25,647,721\n",
      "Non-trainable params: 53,120\n",
      "_________________________________________________________________\n"
     ]
    }
   ],
   "source": [
    "model_2.summary()"
   ]
  },
  {
   "cell_type": "code",
   "execution_count": 38,
   "id": "541b854e",
   "metadata": {},
   "outputs": [],
   "source": [
    "model_2.layers[0].trainable = False"
   ]
  },
  {
   "cell_type": "code",
   "execution_count": 39,
   "id": "430ccf90",
   "metadata": {},
   "outputs": [
    {
     "name": "stdout",
     "output_type": "stream",
     "text": [
      "False\n",
      "True\n",
      "True\n"
     ]
    }
   ],
   "source": [
    "for layer in model_2.layers:\n",
    "    print(layer.trainable)"
   ]
  },
  {
   "cell_type": "code",
   "execution_count": 44,
   "id": "78424537",
   "metadata": {},
   "outputs": [],
   "source": [
    "model_2.compile(optimizer='adam', loss='binary_crossentropy', metrics=['accuracy', 'Precision', 'Recall'])"
   ]
  },
  {
   "cell_type": "code",
   "execution_count": 45,
   "id": "eadacd68",
   "metadata": {},
   "outputs": [
    {
     "name": "stdout",
     "output_type": "stream",
     "text": [
      "Epoch 1/10\n",
      "26/26 [==============================] - 39s 1s/step - loss: 0.6858 - accuracy: 0.5862 - precision: 0.6000 - recall: 0.9512\n",
      "Epoch 2/10\n",
      "26/26 [==============================] - 32s 1s/step - loss: 0.6748 - accuracy: 0.6059 - precision: 0.6059 - recall: 1.0000\n",
      "Epoch 3/10\n",
      "26/26 [==============================] - 34s 1s/step - loss: 0.6722 - accuracy: 0.6059 - precision: 0.6059 - recall: 1.0000\n",
      "Epoch 4/10\n",
      "26/26 [==============================] - 39s 1s/step - loss: 0.6717 - accuracy: 0.6059 - precision: 0.6059 - recall: 1.0000\n",
      "Epoch 5/10\n",
      "26/26 [==============================] - 34s 1s/step - loss: 0.6709 - accuracy: 0.6059 - precision: 0.6059 - recall: 1.0000\n",
      "Epoch 6/10\n",
      "26/26 [==============================] - 35s 1s/step - loss: 0.6716 - accuracy: 0.6059 - precision: 0.6059 - recall: 1.0000\n",
      "Epoch 7/10\n",
      "26/26 [==============================] - 33s 1s/step - loss: 0.6710 - accuracy: 0.6059 - precision: 0.6059 - recall: 1.0000\n",
      "Epoch 8/10\n",
      "26/26 [==============================] - 33s 1s/step - loss: 0.6708 - accuracy: 0.6059 - precision: 0.6059 - recall: 1.0000\n",
      "Epoch 9/10\n",
      "26/26 [==============================] - 32s 1s/step - loss: 0.6707 - accuracy: 0.6059 - precision: 0.6059 - recall: 1.0000\n",
      "Epoch 10/10\n",
      "26/26 [==============================] - 32s 1s/step - loss: 0.6708 - accuracy: 0.6059 - precision: 0.6059 - recall: 1.0000\n"
     ]
    },
    {
     "data": {
      "text/plain": [
       "<keras.callbacks.History at 0x287b0bafe80>"
      ]
     },
     "execution_count": 45,
     "metadata": {},
     "output_type": "execute_result"
    }
   ],
   "source": [
    "model_2.fit(dataset, epochs=10)"
   ]
  },
  {
   "cell_type": "markdown",
   "id": "ff14ad8b",
   "metadata": {},
   "source": [
    "##### ----------------------------------------------------------------------------------------------"
   ]
  },
  {
   "cell_type": "code",
   "execution_count": 46,
   "id": "387a5e63",
   "metadata": {},
   "outputs": [],
   "source": [
    "for layer in model_resnet50.layers:\n",
    "    layer.trainable = False"
   ]
  },
  {
   "cell_type": "code",
   "execution_count": 47,
   "id": "dc14e113",
   "metadata": {},
   "outputs": [],
   "source": [
    "model_3 = tf.keras.models.Sequential([\n",
    "    model_resnet50,\n",
    "    tf.keras.layers.Dense(64, activation='relu'),\n",
    "    tf.keras.layers.Dense(1, activation='sigmoid')\n",
    "])"
   ]
  },
  {
   "cell_type": "code",
   "execution_count": 50,
   "id": "aea868f8",
   "metadata": {},
   "outputs": [],
   "source": [
    "model_3.compile(optimizer='adam', loss='binary_crossentropy', metrics=['accuracy', 'Precision', 'Recall'])"
   ]
  },
  {
   "cell_type": "code",
   "execution_count": 51,
   "id": "9896f69d",
   "metadata": {},
   "outputs": [
    {
     "name": "stdout",
     "output_type": "stream",
     "text": [
      "Epoch 1/20\n",
      "26/26 [==============================] - 39s 1s/step - loss: 0.6836 - accuracy: 0.6059 - precision: 0.6059 - recall: 1.0000\n",
      "Epoch 2/20\n",
      "26/26 [==============================] - 33s 1s/step - loss: 0.6761 - accuracy: 0.6059 - precision: 0.6059 - recall: 1.0000\n",
      "Epoch 3/20\n",
      "26/26 [==============================] - 34s 1s/step - loss: 0.6731 - accuracy: 0.6059 - precision: 0.6059 - recall: 1.0000\n",
      "Epoch 4/20\n",
      "26/26 [==============================] - 32s 1s/step - loss: 0.6717 - accuracy: 0.6059 - precision: 0.6059 - recall: 1.0000\n",
      "Epoch 5/20\n",
      "26/26 [==============================] - 32s 1s/step - loss: 0.6711 - accuracy: 0.6059 - precision: 0.6059 - recall: 1.0000\n",
      "Epoch 6/20\n",
      "26/26 [==============================] - 32s 1s/step - loss: 0.6711 - accuracy: 0.6059 - precision: 0.6059 - recall: 1.0000\n",
      "Epoch 7/20\n",
      "26/26 [==============================] - 32s 1s/step - loss: 0.6710 - accuracy: 0.6059 - precision: 0.6059 - recall: 1.0000\n",
      "Epoch 8/20\n",
      "26/26 [==============================] - 32s 1s/step - loss: 0.6711 - accuracy: 0.6059 - precision: 0.6059 - recall: 1.0000\n",
      "Epoch 9/20\n",
      "26/26 [==============================] - 32s 1s/step - loss: 0.6707 - accuracy: 0.6059 - precision: 0.6059 - recall: 1.0000\n",
      "Epoch 10/20\n",
      "26/26 [==============================] - 32s 1s/step - loss: 0.6708 - accuracy: 0.6059 - precision: 0.6059 - recall: 1.0000\n",
      "Epoch 11/20\n",
      "26/26 [==============================] - 34s 1s/step - loss: 0.6715 - accuracy: 0.6059 - precision: 0.6059 - recall: 1.0000\n",
      "Epoch 12/20\n",
      "26/26 [==============================] - 35s 1s/step - loss: 0.6707 - accuracy: 0.6059 - precision: 0.6059 - recall: 1.0000\n",
      "Epoch 13/20\n",
      "26/26 [==============================] - 32s 1s/step - loss: 0.6708 - accuracy: 0.6059 - precision: 0.6059 - recall: 1.0000\n",
      "Epoch 14/20\n",
      "26/26 [==============================] - 32s 1s/step - loss: 0.6709 - accuracy: 0.6059 - precision: 0.6059 - recall: 1.0000\n",
      "Epoch 15/20\n",
      "26/26 [==============================] - 32s 1s/step - loss: 0.6712 - accuracy: 0.6059 - precision: 0.6059 - recall: 1.0000\n",
      "Epoch 16/20\n",
      "26/26 [==============================] - 32s 1s/step - loss: 0.6708 - accuracy: 0.6059 - precision: 0.6059 - recall: 1.0000\n",
      "Epoch 17/20\n",
      "26/26 [==============================] - 32s 1s/step - loss: 0.6713 - accuracy: 0.6059 - precision: 0.6059 - recall: 1.0000\n",
      "Epoch 18/20\n",
      "26/26 [==============================] - 34s 1s/step - loss: 0.6707 - accuracy: 0.6059 - precision: 0.6059 - recall: 1.0000\n",
      "Epoch 19/20\n",
      "26/26 [==============================] - 35s 1s/step - loss: 0.6711 - accuracy: 0.6059 - precision: 0.6059 - recall: 1.0000\n",
      "Epoch 20/20\n",
      "26/26 [==============================] - 35s 1s/step - loss: 0.6711 - accuracy: 0.6059 - precision: 0.6059 - recall: 1.0000\n"
     ]
    },
    {
     "data": {
      "text/plain": [
       "<keras.callbacks.History at 0x287ad971f00>"
      ]
     },
     "execution_count": 51,
     "metadata": {},
     "output_type": "execute_result"
    }
   ],
   "source": [
    "model_3.fit(dataset, epochs=20)"
   ]
  },
  {
   "cell_type": "markdown",
   "id": "b1a3c5b5",
   "metadata": {},
   "source": [
    "##### ----------------------------------------------------------------------------------------------------------"
   ]
  },
  {
   "cell_type": "code",
   "execution_count": 74,
   "id": "8d0ae417",
   "metadata": {},
   "outputs": [
    {
     "name": "stdout",
     "output_type": "stream",
     "text": [
      "Model: \"resnet50\"\n",
      "__________________________________________________________________________________________________\n",
      " Layer (type)                   Output Shape         Param #     Connected to                     \n",
      "==================================================================================================\n",
      " input_2 (InputLayer)           [(None, 224, 224, 3  0           []                               \n",
      "                                )]                                                                \n",
      "                                                                                                  \n",
      " conv1_pad (ZeroPadding2D)      (None, 230, 230, 3)  0           ['input_2[0][0]']                \n",
      "                                                                                                  \n",
      " conv1_conv (Conv2D)            (None, 112, 112, 64  9472        ['conv1_pad[0][0]']              \n",
      "                                )                                                                 \n",
      "                                                                                                  \n",
      " conv1_bn (BatchNormalization)  (None, 112, 112, 64  256         ['conv1_conv[0][0]']             \n",
      "                                )                                                                 \n",
      "                                                                                                  \n",
      " conv1_relu (Activation)        (None, 112, 112, 64  0           ['conv1_bn[0][0]']               \n",
      "                                )                                                                 \n",
      "                                                                                                  \n",
      " pool1_pad (ZeroPadding2D)      (None, 114, 114, 64  0           ['conv1_relu[0][0]']             \n",
      "                                )                                                                 \n",
      "                                                                                                  \n",
      " pool1_pool (MaxPooling2D)      (None, 56, 56, 64)   0           ['pool1_pad[0][0]']              \n",
      "                                                                                                  \n",
      " conv2_block1_1_conv (Conv2D)   (None, 56, 56, 64)   4160        ['pool1_pool[0][0]']             \n",
      "                                                                                                  \n",
      " conv2_block1_1_bn (BatchNormal  (None, 56, 56, 64)  256         ['conv2_block1_1_conv[0][0]']    \n",
      " ization)                                                                                         \n",
      "                                                                                                  \n",
      " conv2_block1_1_relu (Activatio  (None, 56, 56, 64)  0           ['conv2_block1_1_bn[0][0]']      \n",
      " n)                                                                                               \n",
      "                                                                                                  \n",
      " conv2_block1_2_conv (Conv2D)   (None, 56, 56, 64)   36928       ['conv2_block1_1_relu[0][0]']    \n",
      "                                                                                                  \n",
      " conv2_block1_2_bn (BatchNormal  (None, 56, 56, 64)  256         ['conv2_block1_2_conv[0][0]']    \n",
      " ization)                                                                                         \n",
      "                                                                                                  \n",
      " conv2_block1_2_relu (Activatio  (None, 56, 56, 64)  0           ['conv2_block1_2_bn[0][0]']      \n",
      " n)                                                                                               \n",
      "                                                                                                  \n",
      " conv2_block1_0_conv (Conv2D)   (None, 56, 56, 256)  16640       ['pool1_pool[0][0]']             \n",
      "                                                                                                  \n",
      " conv2_block1_3_conv (Conv2D)   (None, 56, 56, 256)  16640       ['conv2_block1_2_relu[0][0]']    \n",
      "                                                                                                  \n",
      " conv2_block1_0_bn (BatchNormal  (None, 56, 56, 256)  1024       ['conv2_block1_0_conv[0][0]']    \n",
      " ization)                                                                                         \n",
      "                                                                                                  \n",
      " conv2_block1_3_bn (BatchNormal  (None, 56, 56, 256)  1024       ['conv2_block1_3_conv[0][0]']    \n",
      " ization)                                                                                         \n",
      "                                                                                                  \n",
      " conv2_block1_add (Add)         (None, 56, 56, 256)  0           ['conv2_block1_0_bn[0][0]',      \n",
      "                                                                  'conv2_block1_3_bn[0][0]']      \n",
      "                                                                                                  \n",
      " conv2_block1_out (Activation)  (None, 56, 56, 256)  0           ['conv2_block1_add[0][0]']       \n",
      "                                                                                                  \n",
      " conv2_block2_1_conv (Conv2D)   (None, 56, 56, 64)   16448       ['conv2_block1_out[0][0]']       \n",
      "                                                                                                  \n",
      " conv2_block2_1_bn (BatchNormal  (None, 56, 56, 64)  256         ['conv2_block2_1_conv[0][0]']    \n",
      " ization)                                                                                         \n",
      "                                                                                                  \n",
      " conv2_block2_1_relu (Activatio  (None, 56, 56, 64)  0           ['conv2_block2_1_bn[0][0]']      \n",
      " n)                                                                                               \n",
      "                                                                                                  \n",
      " conv2_block2_2_conv (Conv2D)   (None, 56, 56, 64)   36928       ['conv2_block2_1_relu[0][0]']    \n",
      "                                                                                                  \n",
      " conv2_block2_2_bn (BatchNormal  (None, 56, 56, 64)  256         ['conv2_block2_2_conv[0][0]']    \n",
      " ization)                                                                                         \n",
      "                                                                                                  \n",
      " conv2_block2_2_relu (Activatio  (None, 56, 56, 64)  0           ['conv2_block2_2_bn[0][0]']      \n",
      " n)                                                                                               \n",
      "                                                                                                  \n",
      " conv2_block2_3_conv (Conv2D)   (None, 56, 56, 256)  16640       ['conv2_block2_2_relu[0][0]']    \n",
      "                                                                                                  \n",
      " conv2_block2_3_bn (BatchNormal  (None, 56, 56, 256)  1024       ['conv2_block2_3_conv[0][0]']    \n",
      " ization)                                                                                         \n",
      "                                                                                                  \n",
      " conv2_block2_add (Add)         (None, 56, 56, 256)  0           ['conv2_block1_out[0][0]',       \n",
      "                                                                  'conv2_block2_3_bn[0][0]']      \n",
      "                                                                                                  \n",
      " conv2_block2_out (Activation)  (None, 56, 56, 256)  0           ['conv2_block2_add[0][0]']       \n",
      "                                                                                                  \n",
      " conv2_block3_1_conv (Conv2D)   (None, 56, 56, 64)   16448       ['conv2_block2_out[0][0]']       \n",
      "                                                                                                  \n",
      " conv2_block3_1_bn (BatchNormal  (None, 56, 56, 64)  256         ['conv2_block3_1_conv[0][0]']    \n",
      " ization)                                                                                         \n"
     ]
    },
    {
     "name": "stdout",
     "output_type": "stream",
     "text": [
      "                                                                                                  \n",
      " conv2_block3_1_relu (Activatio  (None, 56, 56, 64)  0           ['conv2_block3_1_bn[0][0]']      \n",
      " n)                                                                                               \n",
      "                                                                                                  \n",
      " conv2_block3_2_conv (Conv2D)   (None, 56, 56, 64)   36928       ['conv2_block3_1_relu[0][0]']    \n",
      "                                                                                                  \n",
      " conv2_block3_2_bn (BatchNormal  (None, 56, 56, 64)  256         ['conv2_block3_2_conv[0][0]']    \n",
      " ization)                                                                                         \n",
      "                                                                                                  \n",
      " conv2_block3_2_relu (Activatio  (None, 56, 56, 64)  0           ['conv2_block3_2_bn[0][0]']      \n",
      " n)                                                                                               \n",
      "                                                                                                  \n",
      " conv2_block3_3_conv (Conv2D)   (None, 56, 56, 256)  16640       ['conv2_block3_2_relu[0][0]']    \n",
      "                                                                                                  \n",
      " conv2_block3_3_bn (BatchNormal  (None, 56, 56, 256)  1024       ['conv2_block3_3_conv[0][0]']    \n",
      " ization)                                                                                         \n",
      "                                                                                                  \n",
      " conv2_block3_add (Add)         (None, 56, 56, 256)  0           ['conv2_block2_out[0][0]',       \n",
      "                                                                  'conv2_block3_3_bn[0][0]']      \n",
      "                                                                                                  \n",
      " conv2_block3_out (Activation)  (None, 56, 56, 256)  0           ['conv2_block3_add[0][0]']       \n",
      "                                                                                                  \n",
      " conv3_block1_1_conv (Conv2D)   (None, 28, 28, 128)  32896       ['conv2_block3_out[0][0]']       \n",
      "                                                                                                  \n",
      " conv3_block1_1_bn (BatchNormal  (None, 28, 28, 128)  512        ['conv3_block1_1_conv[0][0]']    \n",
      " ization)                                                                                         \n",
      "                                                                                                  \n",
      " conv3_block1_1_relu (Activatio  (None, 28, 28, 128)  0          ['conv3_block1_1_bn[0][0]']      \n",
      " n)                                                                                               \n",
      "                                                                                                  \n",
      " conv3_block1_2_conv (Conv2D)   (None, 28, 28, 128)  147584      ['conv3_block1_1_relu[0][0]']    \n",
      "                                                                                                  \n",
      " conv3_block1_2_bn (BatchNormal  (None, 28, 28, 128)  512        ['conv3_block1_2_conv[0][0]']    \n",
      " ization)                                                                                         \n",
      "                                                                                                  \n",
      " conv3_block1_2_relu (Activatio  (None, 28, 28, 128)  0          ['conv3_block1_2_bn[0][0]']      \n",
      " n)                                                                                               \n",
      "                                                                                                  \n",
      " conv3_block1_0_conv (Conv2D)   (None, 28, 28, 512)  131584      ['conv2_block3_out[0][0]']       \n",
      "                                                                                                  \n",
      " conv3_block1_3_conv (Conv2D)   (None, 28, 28, 512)  66048       ['conv3_block1_2_relu[0][0]']    \n",
      "                                                                                                  \n",
      " conv3_block1_0_bn (BatchNormal  (None, 28, 28, 512)  2048       ['conv3_block1_0_conv[0][0]']    \n",
      " ization)                                                                                         \n",
      "                                                                                                  \n",
      " conv3_block1_3_bn (BatchNormal  (None, 28, 28, 512)  2048       ['conv3_block1_3_conv[0][0]']    \n",
      " ization)                                                                                         \n",
      "                                                                                                  \n",
      " conv3_block1_add (Add)         (None, 28, 28, 512)  0           ['conv3_block1_0_bn[0][0]',      \n",
      "                                                                  'conv3_block1_3_bn[0][0]']      \n",
      "                                                                                                  \n",
      " conv3_block1_out (Activation)  (None, 28, 28, 512)  0           ['conv3_block1_add[0][0]']       \n",
      "                                                                                                  \n",
      " conv3_block2_1_conv (Conv2D)   (None, 28, 28, 128)  65664       ['conv3_block1_out[0][0]']       \n",
      "                                                                                                  \n",
      " conv3_block2_1_bn (BatchNormal  (None, 28, 28, 128)  512        ['conv3_block2_1_conv[0][0]']    \n",
      " ization)                                                                                         \n",
      "                                                                                                  \n",
      " conv3_block2_1_relu (Activatio  (None, 28, 28, 128)  0          ['conv3_block2_1_bn[0][0]']      \n",
      " n)                                                                                               \n",
      "                                                                                                  \n",
      " conv3_block2_2_conv (Conv2D)   (None, 28, 28, 128)  147584      ['conv3_block2_1_relu[0][0]']    \n",
      "                                                                                                  \n",
      " conv3_block2_2_bn (BatchNormal  (None, 28, 28, 128)  512        ['conv3_block2_2_conv[0][0]']    \n",
      " ization)                                                                                         \n",
      "                                                                                                  \n",
      " conv3_block2_2_relu (Activatio  (None, 28, 28, 128)  0          ['conv3_block2_2_bn[0][0]']      \n",
      " n)                                                                                               \n",
      "                                                                                                  \n",
      " conv3_block2_3_conv (Conv2D)   (None, 28, 28, 512)  66048       ['conv3_block2_2_relu[0][0]']    \n",
      "                                                                                                  \n",
      " conv3_block2_3_bn (BatchNormal  (None, 28, 28, 512)  2048       ['conv3_block2_3_conv[0][0]']    \n",
      " ization)                                                                                         \n",
      "                                                                                                  \n",
      " conv3_block2_add (Add)         (None, 28, 28, 512)  0           ['conv3_block1_out[0][0]',       \n",
      "                                                                  'conv3_block2_3_bn[0][0]']      \n",
      "                                                                                                  \n",
      " conv3_block2_out (Activation)  (None, 28, 28, 512)  0           ['conv3_block2_add[0][0]']       \n",
      "                                                                                                  \n",
      " conv3_block3_1_conv (Conv2D)   (None, 28, 28, 128)  65664       ['conv3_block2_out[0][0]']       \n",
      "                                                                                                  \n",
      " conv3_block3_1_bn (BatchNormal  (None, 28, 28, 128)  512        ['conv3_block3_1_conv[0][0]']    \n",
      " ization)                                                                                         \n"
     ]
    },
    {
     "name": "stdout",
     "output_type": "stream",
     "text": [
      "                                                                                                  \n",
      " conv3_block3_1_relu (Activatio  (None, 28, 28, 128)  0          ['conv3_block3_1_bn[0][0]']      \n",
      " n)                                                                                               \n",
      "                                                                                                  \n",
      " conv3_block3_2_conv (Conv2D)   (None, 28, 28, 128)  147584      ['conv3_block3_1_relu[0][0]']    \n",
      "                                                                                                  \n",
      " conv3_block3_2_bn (BatchNormal  (None, 28, 28, 128)  512        ['conv3_block3_2_conv[0][0]']    \n",
      " ization)                                                                                         \n",
      "                                                                                                  \n",
      " conv3_block3_2_relu (Activatio  (None, 28, 28, 128)  0          ['conv3_block3_2_bn[0][0]']      \n",
      " n)                                                                                               \n",
      "                                                                                                  \n",
      " conv3_block3_3_conv (Conv2D)   (None, 28, 28, 512)  66048       ['conv3_block3_2_relu[0][0]']    \n",
      "                                                                                                  \n",
      " conv3_block3_3_bn (BatchNormal  (None, 28, 28, 512)  2048       ['conv3_block3_3_conv[0][0]']    \n",
      " ization)                                                                                         \n",
      "                                                                                                  \n",
      " conv3_block3_add (Add)         (None, 28, 28, 512)  0           ['conv3_block2_out[0][0]',       \n",
      "                                                                  'conv3_block3_3_bn[0][0]']      \n",
      "                                                                                                  \n",
      " conv3_block3_out (Activation)  (None, 28, 28, 512)  0           ['conv3_block3_add[0][0]']       \n",
      "                                                                                                  \n",
      " conv3_block4_1_conv (Conv2D)   (None, 28, 28, 128)  65664       ['conv3_block3_out[0][0]']       \n",
      "                                                                                                  \n",
      " conv3_block4_1_bn (BatchNormal  (None, 28, 28, 128)  512        ['conv3_block4_1_conv[0][0]']    \n",
      " ization)                                                                                         \n",
      "                                                                                                  \n",
      " conv3_block4_1_relu (Activatio  (None, 28, 28, 128)  0          ['conv3_block4_1_bn[0][0]']      \n",
      " n)                                                                                               \n",
      "                                                                                                  \n",
      " conv3_block4_2_conv (Conv2D)   (None, 28, 28, 128)  147584      ['conv3_block4_1_relu[0][0]']    \n",
      "                                                                                                  \n",
      " conv3_block4_2_bn (BatchNormal  (None, 28, 28, 128)  512        ['conv3_block4_2_conv[0][0]']    \n",
      " ization)                                                                                         \n",
      "                                                                                                  \n",
      " conv3_block4_2_relu (Activatio  (None, 28, 28, 128)  0          ['conv3_block4_2_bn[0][0]']      \n",
      " n)                                                                                               \n",
      "                                                                                                  \n",
      " conv3_block4_3_conv (Conv2D)   (None, 28, 28, 512)  66048       ['conv3_block4_2_relu[0][0]']    \n",
      "                                                                                                  \n",
      " conv3_block4_3_bn (BatchNormal  (None, 28, 28, 512)  2048       ['conv3_block4_3_conv[0][0]']    \n",
      " ization)                                                                                         \n",
      "                                                                                                  \n",
      " conv3_block4_add (Add)         (None, 28, 28, 512)  0           ['conv3_block3_out[0][0]',       \n",
      "                                                                  'conv3_block4_3_bn[0][0]']      \n",
      "                                                                                                  \n",
      " conv3_block4_out (Activation)  (None, 28, 28, 512)  0           ['conv3_block4_add[0][0]']       \n",
      "                                                                                                  \n",
      " conv4_block1_1_conv (Conv2D)   (None, 14, 14, 256)  131328      ['conv3_block4_out[0][0]']       \n",
      "                                                                                                  \n",
      " conv4_block1_1_bn (BatchNormal  (None, 14, 14, 256)  1024       ['conv4_block1_1_conv[0][0]']    \n",
      " ization)                                                                                         \n",
      "                                                                                                  \n",
      " conv4_block1_1_relu (Activatio  (None, 14, 14, 256)  0          ['conv4_block1_1_bn[0][0]']      \n",
      " n)                                                                                               \n",
      "                                                                                                  \n",
      " conv4_block1_2_conv (Conv2D)   (None, 14, 14, 256)  590080      ['conv4_block1_1_relu[0][0]']    \n",
      "                                                                                                  \n",
      " conv4_block1_2_bn (BatchNormal  (None, 14, 14, 256)  1024       ['conv4_block1_2_conv[0][0]']    \n",
      " ization)                                                                                         \n",
      "                                                                                                  \n",
      " conv4_block1_2_relu (Activatio  (None, 14, 14, 256)  0          ['conv4_block1_2_bn[0][0]']      \n",
      " n)                                                                                               \n",
      "                                                                                                  \n",
      " conv4_block1_0_conv (Conv2D)   (None, 14, 14, 1024  525312      ['conv3_block4_out[0][0]']       \n",
      "                                )                                                                 \n",
      "                                                                                                  \n",
      " conv4_block1_3_conv (Conv2D)   (None, 14, 14, 1024  263168      ['conv4_block1_2_relu[0][0]']    \n",
      "                                )                                                                 \n",
      "                                                                                                  \n",
      " conv4_block1_0_bn (BatchNormal  (None, 14, 14, 1024  4096       ['conv4_block1_0_conv[0][0]']    \n",
      " ization)                       )                                                                 \n",
      "                                                                                                  \n",
      " conv4_block1_3_bn (BatchNormal  (None, 14, 14, 1024  4096       ['conv4_block1_3_conv[0][0]']    \n",
      " ization)                       )                                                                 \n",
      "                                                                                                  \n",
      " conv4_block1_add (Add)         (None, 14, 14, 1024  0           ['conv4_block1_0_bn[0][0]',      \n",
      "                                )                                 'conv4_block1_3_bn[0][0]']      \n",
      "                                                                                                  \n",
      " conv4_block1_out (Activation)  (None, 14, 14, 1024  0           ['conv4_block1_add[0][0]']       \n",
      "                                )                                                                 \n",
      "                                                                                                  \n",
      " conv4_block2_1_conv (Conv2D)   (None, 14, 14, 256)  262400      ['conv4_block1_out[0][0]']       \n"
     ]
    },
    {
     "name": "stdout",
     "output_type": "stream",
     "text": [
      "                                                                                                  \n",
      " conv4_block2_1_bn (BatchNormal  (None, 14, 14, 256)  1024       ['conv4_block2_1_conv[0][0]']    \n",
      " ization)                                                                                         \n",
      "                                                                                                  \n",
      " conv4_block2_1_relu (Activatio  (None, 14, 14, 256)  0          ['conv4_block2_1_bn[0][0]']      \n",
      " n)                                                                                               \n",
      "                                                                                                  \n",
      " conv4_block2_2_conv (Conv2D)   (None, 14, 14, 256)  590080      ['conv4_block2_1_relu[0][0]']    \n",
      "                                                                                                  \n",
      " conv4_block2_2_bn (BatchNormal  (None, 14, 14, 256)  1024       ['conv4_block2_2_conv[0][0]']    \n",
      " ization)                                                                                         \n",
      "                                                                                                  \n",
      " conv4_block2_2_relu (Activatio  (None, 14, 14, 256)  0          ['conv4_block2_2_bn[0][0]']      \n",
      " n)                                                                                               \n",
      "                                                                                                  \n",
      " conv4_block2_3_conv (Conv2D)   (None, 14, 14, 1024  263168      ['conv4_block2_2_relu[0][0]']    \n",
      "                                )                                                                 \n",
      "                                                                                                  \n",
      " conv4_block2_3_bn (BatchNormal  (None, 14, 14, 1024  4096       ['conv4_block2_3_conv[0][0]']    \n",
      " ization)                       )                                                                 \n",
      "                                                                                                  \n",
      " conv4_block2_add (Add)         (None, 14, 14, 1024  0           ['conv4_block1_out[0][0]',       \n",
      "                                )                                 'conv4_block2_3_bn[0][0]']      \n",
      "                                                                                                  \n",
      " conv4_block2_out (Activation)  (None, 14, 14, 1024  0           ['conv4_block2_add[0][0]']       \n",
      "                                )                                                                 \n",
      "                                                                                                  \n",
      " conv4_block3_1_conv (Conv2D)   (None, 14, 14, 256)  262400      ['conv4_block2_out[0][0]']       \n",
      "                                                                                                  \n",
      " conv4_block3_1_bn (BatchNormal  (None, 14, 14, 256)  1024       ['conv4_block3_1_conv[0][0]']    \n",
      " ization)                                                                                         \n",
      "                                                                                                  \n",
      " conv4_block3_1_relu (Activatio  (None, 14, 14, 256)  0          ['conv4_block3_1_bn[0][0]']      \n",
      " n)                                                                                               \n",
      "                                                                                                  \n",
      " conv4_block3_2_conv (Conv2D)   (None, 14, 14, 256)  590080      ['conv4_block3_1_relu[0][0]']    \n",
      "                                                                                                  \n",
      " conv4_block3_2_bn (BatchNormal  (None, 14, 14, 256)  1024       ['conv4_block3_2_conv[0][0]']    \n",
      " ization)                                                                                         \n",
      "                                                                                                  \n",
      " conv4_block3_2_relu (Activatio  (None, 14, 14, 256)  0          ['conv4_block3_2_bn[0][0]']      \n",
      " n)                                                                                               \n",
      "                                                                                                  \n",
      " conv4_block3_3_conv (Conv2D)   (None, 14, 14, 1024  263168      ['conv4_block3_2_relu[0][0]']    \n",
      "                                )                                                                 \n",
      "                                                                                                  \n",
      " conv4_block3_3_bn (BatchNormal  (None, 14, 14, 1024  4096       ['conv4_block3_3_conv[0][0]']    \n",
      " ization)                       )                                                                 \n",
      "                                                                                                  \n",
      " conv4_block3_add (Add)         (None, 14, 14, 1024  0           ['conv4_block2_out[0][0]',       \n",
      "                                )                                 'conv4_block3_3_bn[0][0]']      \n",
      "                                                                                                  \n",
      " conv4_block3_out (Activation)  (None, 14, 14, 1024  0           ['conv4_block3_add[0][0]']       \n",
      "                                )                                                                 \n",
      "                                                                                                  \n",
      " conv4_block4_1_conv (Conv2D)   (None, 14, 14, 256)  262400      ['conv4_block3_out[0][0]']       \n",
      "                                                                                                  \n",
      " conv4_block4_1_bn (BatchNormal  (None, 14, 14, 256)  1024       ['conv4_block4_1_conv[0][0]']    \n",
      " ization)                                                                                         \n",
      "                                                                                                  \n",
      " conv4_block4_1_relu (Activatio  (None, 14, 14, 256)  0          ['conv4_block4_1_bn[0][0]']      \n",
      " n)                                                                                               \n",
      "                                                                                                  \n",
      " conv4_block4_2_conv (Conv2D)   (None, 14, 14, 256)  590080      ['conv4_block4_1_relu[0][0]']    \n",
      "                                                                                                  \n",
      " conv4_block4_2_bn (BatchNormal  (None, 14, 14, 256)  1024       ['conv4_block4_2_conv[0][0]']    \n",
      " ization)                                                                                         \n",
      "                                                                                                  \n",
      " conv4_block4_2_relu (Activatio  (None, 14, 14, 256)  0          ['conv4_block4_2_bn[0][0]']      \n",
      " n)                                                                                               \n",
      "                                                                                                  \n",
      " conv4_block4_3_conv (Conv2D)   (None, 14, 14, 1024  263168      ['conv4_block4_2_relu[0][0]']    \n",
      "                                )                                                                 \n",
      "                                                                                                  \n",
      " conv4_block4_3_bn (BatchNormal  (None, 14, 14, 1024  4096       ['conv4_block4_3_conv[0][0]']    \n",
      " ization)                       )                                                                 \n",
      "                                                                                                  \n",
      " conv4_block4_add (Add)         (None, 14, 14, 1024  0           ['conv4_block3_out[0][0]',       \n",
      "                                )                                 'conv4_block4_3_bn[0][0]']      \n",
      "                                                                                                  \n",
      " conv4_block4_out (Activation)  (None, 14, 14, 1024  0           ['conv4_block4_add[0][0]']       \n",
      "                                )                                                                 \n",
      "                                                                                                  \n"
     ]
    },
    {
     "name": "stdout",
     "output_type": "stream",
     "text": [
      " conv4_block5_1_conv (Conv2D)   (None, 14, 14, 256)  262400      ['conv4_block4_out[0][0]']       \n",
      "                                                                                                  \n",
      " conv4_block5_1_bn (BatchNormal  (None, 14, 14, 256)  1024       ['conv4_block5_1_conv[0][0]']    \n",
      " ization)                                                                                         \n",
      "                                                                                                  \n",
      " conv4_block5_1_relu (Activatio  (None, 14, 14, 256)  0          ['conv4_block5_1_bn[0][0]']      \n",
      " n)                                                                                               \n",
      "                                                                                                  \n",
      " conv4_block5_2_conv (Conv2D)   (None, 14, 14, 256)  590080      ['conv4_block5_1_relu[0][0]']    \n",
      "                                                                                                  \n",
      " conv4_block5_2_bn (BatchNormal  (None, 14, 14, 256)  1024       ['conv4_block5_2_conv[0][0]']    \n",
      " ization)                                                                                         \n",
      "                                                                                                  \n",
      " conv4_block5_2_relu (Activatio  (None, 14, 14, 256)  0          ['conv4_block5_2_bn[0][0]']      \n",
      " n)                                                                                               \n",
      "                                                                                                  \n",
      " conv4_block5_3_conv (Conv2D)   (None, 14, 14, 1024  263168      ['conv4_block5_2_relu[0][0]']    \n",
      "                                )                                                                 \n",
      "                                                                                                  \n",
      " conv4_block5_3_bn (BatchNormal  (None, 14, 14, 1024  4096       ['conv4_block5_3_conv[0][0]']    \n",
      " ization)                       )                                                                 \n",
      "                                                                                                  \n",
      " conv4_block5_add (Add)         (None, 14, 14, 1024  0           ['conv4_block4_out[0][0]',       \n",
      "                                )                                 'conv4_block5_3_bn[0][0]']      \n",
      "                                                                                                  \n",
      " conv4_block5_out (Activation)  (None, 14, 14, 1024  0           ['conv4_block5_add[0][0]']       \n",
      "                                )                                                                 \n",
      "                                                                                                  \n",
      " conv4_block6_1_conv (Conv2D)   (None, 14, 14, 256)  262400      ['conv4_block5_out[0][0]']       \n",
      "                                                                                                  \n",
      " conv4_block6_1_bn (BatchNormal  (None, 14, 14, 256)  1024       ['conv4_block6_1_conv[0][0]']    \n",
      " ization)                                                                                         \n",
      "                                                                                                  \n",
      " conv4_block6_1_relu (Activatio  (None, 14, 14, 256)  0          ['conv4_block6_1_bn[0][0]']      \n",
      " n)                                                                                               \n",
      "                                                                                                  \n",
      " conv4_block6_2_conv (Conv2D)   (None, 14, 14, 256)  590080      ['conv4_block6_1_relu[0][0]']    \n",
      "                                                                                                  \n",
      " conv4_block6_2_bn (BatchNormal  (None, 14, 14, 256)  1024       ['conv4_block6_2_conv[0][0]']    \n",
      " ization)                                                                                         \n",
      "                                                                                                  \n",
      " conv4_block6_2_relu (Activatio  (None, 14, 14, 256)  0          ['conv4_block6_2_bn[0][0]']      \n",
      " n)                                                                                               \n",
      "                                                                                                  \n",
      " conv4_block6_3_conv (Conv2D)   (None, 14, 14, 1024  263168      ['conv4_block6_2_relu[0][0]']    \n",
      "                                )                                                                 \n",
      "                                                                                                  \n",
      " conv4_block6_3_bn (BatchNormal  (None, 14, 14, 1024  4096       ['conv4_block6_3_conv[0][0]']    \n",
      " ization)                       )                                                                 \n",
      "                                                                                                  \n",
      " conv4_block6_add (Add)         (None, 14, 14, 1024  0           ['conv4_block5_out[0][0]',       \n",
      "                                )                                 'conv4_block6_3_bn[0][0]']      \n",
      "                                                                                                  \n",
      " conv4_block6_out (Activation)  (None, 14, 14, 1024  0           ['conv4_block6_add[0][0]']       \n",
      "                                )                                                                 \n",
      "                                                                                                  \n",
      " conv5_block1_1_conv (Conv2D)   (None, 7, 7, 512)    524800      ['conv4_block6_out[0][0]']       \n",
      "                                                                                                  \n",
      " conv5_block1_1_bn (BatchNormal  (None, 7, 7, 512)   2048        ['conv5_block1_1_conv[0][0]']    \n",
      " ization)                                                                                         \n",
      "                                                                                                  \n",
      " conv5_block1_1_relu (Activatio  (None, 7, 7, 512)   0           ['conv5_block1_1_bn[0][0]']      \n",
      " n)                                                                                               \n",
      "                                                                                                  \n",
      " conv5_block1_2_conv (Conv2D)   (None, 7, 7, 512)    2359808     ['conv5_block1_1_relu[0][0]']    \n",
      "                                                                                                  \n",
      " conv5_block1_2_bn (BatchNormal  (None, 7, 7, 512)   2048        ['conv5_block1_2_conv[0][0]']    \n",
      " ization)                                                                                         \n",
      "                                                                                                  \n",
      " conv5_block1_2_relu (Activatio  (None, 7, 7, 512)   0           ['conv5_block1_2_bn[0][0]']      \n",
      " n)                                                                                               \n",
      "                                                                                                  \n",
      " conv5_block1_0_conv (Conv2D)   (None, 7, 7, 2048)   2099200     ['conv4_block6_out[0][0]']       \n",
      "                                                                                                  \n",
      " conv5_block1_3_conv (Conv2D)   (None, 7, 7, 2048)   1050624     ['conv5_block1_2_relu[0][0]']    \n",
      "                                                                                                  \n",
      " conv5_block1_0_bn (BatchNormal  (None, 7, 7, 2048)  8192        ['conv5_block1_0_conv[0][0]']    \n",
      " ization)                                                                                         \n",
      "                                                                                                  \n",
      " conv5_block1_3_bn (BatchNormal  (None, 7, 7, 2048)  8192        ['conv5_block1_3_conv[0][0]']    \n",
      " ization)                                                                                         \n",
      "                                                                                                  \n",
      " conv5_block1_add (Add)         (None, 7, 7, 2048)   0           ['conv5_block1_0_bn[0][0]',      \n"
     ]
    },
    {
     "name": "stdout",
     "output_type": "stream",
     "text": [
      "                                                                  'conv5_block1_3_bn[0][0]']      \n",
      "                                                                                                  \n",
      " conv5_block1_out (Activation)  (None, 7, 7, 2048)   0           ['conv5_block1_add[0][0]']       \n",
      "                                                                                                  \n",
      " conv5_block2_1_conv (Conv2D)   (None, 7, 7, 512)    1049088     ['conv5_block1_out[0][0]']       \n",
      "                                                                                                  \n",
      " conv5_block2_1_bn (BatchNormal  (None, 7, 7, 512)   2048        ['conv5_block2_1_conv[0][0]']    \n",
      " ization)                                                                                         \n",
      "                                                                                                  \n",
      " conv5_block2_1_relu (Activatio  (None, 7, 7, 512)   0           ['conv5_block2_1_bn[0][0]']      \n",
      " n)                                                                                               \n",
      "                                                                                                  \n",
      " conv5_block2_2_conv (Conv2D)   (None, 7, 7, 512)    2359808     ['conv5_block2_1_relu[0][0]']    \n",
      "                                                                                                  \n",
      " conv5_block2_2_bn (BatchNormal  (None, 7, 7, 512)   2048        ['conv5_block2_2_conv[0][0]']    \n",
      " ization)                                                                                         \n",
      "                                                                                                  \n",
      " conv5_block2_2_relu (Activatio  (None, 7, 7, 512)   0           ['conv5_block2_2_bn[0][0]']      \n",
      " n)                                                                                               \n",
      "                                                                                                  \n",
      " conv5_block2_3_conv (Conv2D)   (None, 7, 7, 2048)   1050624     ['conv5_block2_2_relu[0][0]']    \n",
      "                                                                                                  \n",
      " conv5_block2_3_bn (BatchNormal  (None, 7, 7, 2048)  8192        ['conv5_block2_3_conv[0][0]']    \n",
      " ization)                                                                                         \n",
      "                                                                                                  \n",
      " conv5_block2_add (Add)         (None, 7, 7, 2048)   0           ['conv5_block1_out[0][0]',       \n",
      "                                                                  'conv5_block2_3_bn[0][0]']      \n",
      "                                                                                                  \n",
      " conv5_block2_out (Activation)  (None, 7, 7, 2048)   0           ['conv5_block2_add[0][0]']       \n",
      "                                                                                                  \n",
      " conv5_block3_1_conv (Conv2D)   (None, 7, 7, 512)    1049088     ['conv5_block2_out[0][0]']       \n",
      "                                                                                                  \n",
      " conv5_block3_1_bn (BatchNormal  (None, 7, 7, 512)   2048        ['conv5_block3_1_conv[0][0]']    \n",
      " ization)                                                                                         \n",
      "                                                                                                  \n",
      " conv5_block3_1_relu (Activatio  (None, 7, 7, 512)   0           ['conv5_block3_1_bn[0][0]']      \n",
      " n)                                                                                               \n",
      "                                                                                                  \n",
      " conv5_block3_2_conv (Conv2D)   (None, 7, 7, 512)    2359808     ['conv5_block3_1_relu[0][0]']    \n",
      "                                                                                                  \n",
      " conv5_block3_2_bn (BatchNormal  (None, 7, 7, 512)   2048        ['conv5_block3_2_conv[0][0]']    \n",
      " ization)                                                                                         \n",
      "                                                                                                  \n",
      " conv5_block3_2_relu (Activatio  (None, 7, 7, 512)   0           ['conv5_block3_2_bn[0][0]']      \n",
      " n)                                                                                               \n",
      "                                                                                                  \n",
      " conv5_block3_3_conv (Conv2D)   (None, 7, 7, 2048)   1050624     ['conv5_block3_2_relu[0][0]']    \n",
      "                                                                                                  \n",
      " conv5_block3_3_bn (BatchNormal  (None, 7, 7, 2048)  8192        ['conv5_block3_3_conv[0][0]']    \n",
      " ization)                                                                                         \n",
      "                                                                                                  \n",
      " conv5_block3_add (Add)         (None, 7, 7, 2048)   0           ['conv5_block2_out[0][0]',       \n",
      "                                                                  'conv5_block3_3_bn[0][0]']      \n",
      "                                                                                                  \n",
      " conv5_block3_out (Activation)  (None, 7, 7, 2048)   0           ['conv5_block3_add[0][0]']       \n",
      "                                                                                                  \n",
      " avg_pool (GlobalAveragePooling  (None, 2048)        0           ['conv5_block3_out[0][0]']       \n",
      " 2D)                                                                                              \n",
      "                                                                                                  \n",
      " predictions (Dense)            (None, 1000)         2049000     ['avg_pool[0][0]']               \n",
      "                                                                                                  \n",
      "==================================================================================================\n",
      "Total params: 25,636,712\n",
      "Trainable params: 0\n",
      "Non-trainable params: 25,636,712\n",
      "__________________________________________________________________________________________________\n"
     ]
    }
   ],
   "source": [
    "model_resnet50.summary()"
   ]
  },
  {
   "cell_type": "code",
   "execution_count": 75,
   "id": "db6bc10f",
   "metadata": {},
   "outputs": [],
   "source": [
    "for layer in model_resnet50.layers:\n",
    "    layer.trainable = False"
   ]
  },
  {
   "cell_type": "code",
   "execution_count": 76,
   "id": "e4471097",
   "metadata": {},
   "outputs": [],
   "source": [
    "model_resnet50.get_layer(name='predictions').trainable = True"
   ]
  },
  {
   "cell_type": "code",
   "execution_count": 77,
   "id": "b569c1dd",
   "metadata": {},
   "outputs": [],
   "source": [
    "model_4 = tf.keras.models.Sequential([\n",
    "    model_resnet50,\n",
    "    tf.keras.layers.Dense(64, activation='relu'),\n",
    "    tf.keras.layers.Dense(1, activation='sigmoid')\n",
    "])"
   ]
  },
  {
   "cell_type": "code",
   "execution_count": 78,
   "id": "6cd4733d",
   "metadata": {},
   "outputs": [
    {
     "name": "stdout",
     "output_type": "stream",
     "text": [
      "False\n",
      "True\n",
      "True\n"
     ]
    }
   ],
   "source": [
    "for layer in model_4.layers:\n",
    "    print(layer.trainable)"
   ]
  },
  {
   "cell_type": "code",
   "execution_count": 79,
   "id": "2b51881f",
   "metadata": {},
   "outputs": [],
   "source": [
    "model_4.compile(optimizer='adam', loss='binary_crossentropy', metrics=['accuracy', 'Precision', 'Recall'])"
   ]
  },
  {
   "cell_type": "code",
   "execution_count": 80,
   "id": "50f2b507",
   "metadata": {},
   "outputs": [
    {
     "name": "stdout",
     "output_type": "stream",
     "text": [
      "Epoch 1/20\n",
      "26/26 [==============================] - 43s 1s/step - loss: 0.6866 - accuracy: 0.6059 - precision: 0.6059 - recall: 1.0000\n",
      "Epoch 2/20\n",
      "26/26 [==============================] - 32s 1s/step - loss: 0.6797 - accuracy: 0.6059 - precision: 0.6059 - recall: 1.0000\n",
      "Epoch 3/20\n",
      "26/26 [==============================] - 32s 1s/step - loss: 0.6757 - accuracy: 0.6059 - precision: 0.6059 - recall: 1.0000\n",
      "Epoch 4/20\n",
      "26/26 [==============================] - 32s 1s/step - loss: 0.6739 - accuracy: 0.6059 - precision: 0.6059 - recall: 1.0000\n",
      "Epoch 5/20\n",
      "26/26 [==============================] - 32s 1s/step - loss: 0.6720 - accuracy: 0.6059 - precision: 0.6059 - recall: 1.0000\n",
      "Epoch 6/20\n",
      "26/26 [==============================] - 32s 1s/step - loss: 0.6716 - accuracy: 0.6059 - precision: 0.6059 - recall: 1.0000\n",
      "Epoch 7/20\n",
      "26/26 [==============================] - 31s 1s/step - loss: 0.6714 - accuracy: 0.6059 - precision: 0.6059 - recall: 1.0000\n",
      "Epoch 8/20\n",
      "26/26 [==============================] - 34s 1s/step - loss: 0.6711 - accuracy: 0.6059 - precision: 0.6059 - recall: 1.0000\n",
      "Epoch 9/20\n",
      "26/26 [==============================] - 33s 1s/step - loss: 0.6709 - accuracy: 0.6059 - precision: 0.6059 - recall: 1.0000\n",
      "Epoch 10/20\n",
      "26/26 [==============================] - 34s 1s/step - loss: 0.6710 - accuracy: 0.6059 - precision: 0.6059 - recall: 1.0000\n",
      "Epoch 11/20\n",
      "26/26 [==============================] - 35s 1s/step - loss: 0.6710 - accuracy: 0.6059 - precision: 0.6059 - recall: 1.0000\n",
      "Epoch 12/20\n",
      "26/26 [==============================] - 34s 1s/step - loss: 0.6708 - accuracy: 0.6059 - precision: 0.6059 - recall: 1.0000\n",
      "Epoch 13/20\n",
      "26/26 [==============================] - 34s 1s/step - loss: 0.6709 - accuracy: 0.6059 - precision: 0.6059 - recall: 1.0000\n",
      "Epoch 14/20\n",
      "26/26 [==============================] - 33s 1s/step - loss: 0.6709 - accuracy: 0.6059 - precision: 0.6059 - recall: 1.0000\n",
      "Epoch 15/20\n",
      "26/26 [==============================] - 33s 1s/step - loss: 0.6713 - accuracy: 0.6059 - precision: 0.6059 - recall: 1.0000\n",
      "Epoch 16/20\n",
      "26/26 [==============================] - 32s 1s/step - loss: 0.6707 - accuracy: 0.6059 - precision: 0.6059 - recall: 1.0000\n",
      "Epoch 17/20\n",
      "26/26 [==============================] - 32s 1s/step - loss: 0.6707 - accuracy: 0.6059 - precision: 0.6059 - recall: 1.0000\n",
      "Epoch 18/20\n",
      "26/26 [==============================] - 32s 1s/step - loss: 0.6711 - accuracy: 0.6059 - precision: 0.6059 - recall: 1.0000\n",
      "Epoch 19/20\n",
      "26/26 [==============================] - 32s 1s/step - loss: 0.6710 - accuracy: 0.6059 - precision: 0.6059 - recall: 1.0000\n",
      "Epoch 20/20\n",
      "26/26 [==============================] - 34s 1s/step - loss: 0.6711 - accuracy: 0.6059 - precision: 0.6059 - recall: 1.0000\n"
     ]
    },
    {
     "data": {
      "text/plain": [
       "<keras.callbacks.History at 0x288d390a260>"
      ]
     },
     "execution_count": 80,
     "metadata": {},
     "output_type": "execute_result"
    }
   ],
   "source": [
    "model_4.fit(dataset, epochs=20)"
   ]
  },
  {
   "cell_type": "code",
   "execution_count": 81,
   "id": "6f6cb388",
   "metadata": {},
   "outputs": [
    {
     "name": "stdout",
     "output_type": "stream",
     "text": [
      "Model: \"sequential_8\"\n",
      "_________________________________________________________________\n",
      " Layer (type)                Output Shape              Param #   \n",
      "=================================================================\n",
      " resnet50 (Functional)       (None, 1000)              25636712  \n",
      "                                                                 \n",
      " dense_16 (Dense)            (None, 64)                64064     \n",
      "                                                                 \n",
      " dense_17 (Dense)            (None, 1)                 65        \n",
      "                                                                 \n",
      "=================================================================\n",
      "Total params: 25,700,841\n",
      "Trainable params: 64,129\n",
      "Non-trainable params: 25,636,712\n",
      "_________________________________________________________________\n"
     ]
    }
   ],
   "source": [
    "model_4.summary()"
   ]
  },
  {
   "cell_type": "markdown",
   "id": "fc385fc0",
   "metadata": {},
   "source": [
    "##### 1.2.2 VGG16"
   ]
  },
  {
   "cell_type": "code",
   "execution_count": 61,
   "id": "9a8b5945",
   "metadata": {},
   "outputs": [],
   "source": [
    "model_vgg16 = vgg16.VGG16(weights='W:\\\\Knowledge Base\\\\Models\\\\vgg16_weights_tf_dim_ordering_tf_kernels.h5')"
   ]
  },
  {
   "cell_type": "code",
   "execution_count": 62,
   "id": "dd575980",
   "metadata": {},
   "outputs": [],
   "source": [
    "for layer in model_vgg16.layers:\n",
    "    layer.trainable = False"
   ]
  },
  {
   "cell_type": "code",
   "execution_count": 65,
   "id": "b9806531",
   "metadata": {},
   "outputs": [],
   "source": [
    "for layer in ['fc1', 'fc2', 'predictions']:\n",
    "    model_vgg16.get_layer(name=layer).trainable = True"
   ]
  },
  {
   "cell_type": "code",
   "execution_count": 67,
   "id": "fedfac71",
   "metadata": {},
   "outputs": [],
   "source": [
    "model_21 = tf.keras.models.Sequential([\n",
    "    model_vgg16,\n",
    "    tf.keras.layers.Dense(64, activation='relu'),\n",
    "    tf.keras.layers.Dense(1, activation='sigmoid')\n",
    "])"
   ]
  },
  {
   "cell_type": "code",
   "execution_count": 68,
   "id": "c1d29fbe",
   "metadata": {},
   "outputs": [
    {
     "name": "stdout",
     "output_type": "stream",
     "text": [
      "Model: \"sequential_7\"\n",
      "_________________________________________________________________\n",
      " Layer (type)                Output Shape              Param #   \n",
      "=================================================================\n",
      " vgg16 (Functional)          (None, 1000)              138357544 \n",
      "                                                                 \n",
      " dense_14 (Dense)            (None, 64)                64064     \n",
      "                                                                 \n",
      " dense_15 (Dense)            (None, 1)                 65        \n",
      "                                                                 \n",
      "=================================================================\n",
      "Total params: 138,421,673\n",
      "Trainable params: 123,706,985\n",
      "Non-trainable params: 14,714,688\n",
      "_________________________________________________________________\n"
     ]
    }
   ],
   "source": [
    "model_21.summary()"
   ]
  },
  {
   "cell_type": "code",
   "execution_count": 69,
   "id": "d3b4ba63",
   "metadata": {},
   "outputs": [],
   "source": [
    "model_21.compile(optimizer='adam', loss='binary_crossentropy', metrics=['accuracy', 'Precision', 'Recall'])"
   ]
  },
  {
   "cell_type": "code",
   "execution_count": 70,
   "id": "f669f384",
   "metadata": {},
   "outputs": [
    {
     "name": "stdout",
     "output_type": "stream",
     "text": [
      "Epoch 1/10\n",
      "26/26 [==============================] - 305s 12s/step - loss: 0.6915 - accuracy: 0.5074 - precision: 0.7556 - recall: 0.2764\n",
      "Epoch 2/10\n",
      "26/26 [==============================] - 293s 11s/step - loss: 0.6861 - accuracy: 0.5961 - precision: 0.6051 - recall: 0.9593\n",
      "Epoch 3/10\n",
      "26/26 [==============================] - 298s 11s/step - loss: 0.6786 - accuracy: 0.6059 - precision: 0.6059 - recall: 1.0000\n",
      "Epoch 4/10\n",
      "26/26 [==============================] - 292s 11s/step - loss: 0.6740 - accuracy: 0.6059 - precision: 0.6059 - recall: 1.0000\n",
      "Epoch 5/10\n",
      "26/26 [==============================] - 291s 11s/step - loss: 0.6729 - accuracy: 0.6059 - precision: 0.6059 - recall: 1.0000\n",
      "Epoch 6/10\n",
      "26/26 [==============================] - 289s 11s/step - loss: 0.6715 - accuracy: 0.6059 - precision: 0.6059 - recall: 1.0000\n",
      "Epoch 7/10\n",
      "26/26 [==============================] - 290s 11s/step - loss: 0.6711 - accuracy: 0.6059 - precision: 0.6059 - recall: 1.0000\n",
      "Epoch 8/10\n",
      "26/26 [==============================] - 290s 11s/step - loss: 0.6709 - accuracy: 0.6059 - precision: 0.6059 - recall: 1.0000\n",
      "Epoch 9/10\n",
      "26/26 [==============================] - 303s 12s/step - loss: 0.6708 - accuracy: 0.6059 - precision: 0.6059 - recall: 1.0000\n",
      "Epoch 10/10\n",
      "26/26 [==============================] - 326s 13s/step - loss: 0.6710 - accuracy: 0.6059 - precision: 0.6059 - recall: 1.0000\n"
     ]
    },
    {
     "data": {
      "text/plain": [
       "<keras.callbacks.History at 0x28848747f40>"
      ]
     },
     "execution_count": 70,
     "metadata": {},
     "output_type": "execute_result"
    }
   ],
   "source": [
    "model_21.fit(dataset, epochs=10)"
   ]
  },
  {
   "cell_type": "code",
   "execution_count": null,
   "id": "763800cd",
   "metadata": {},
   "outputs": [],
   "source": []
  },
  {
   "cell_type": "code",
   "execution_count": null,
   "id": "897ae881",
   "metadata": {},
   "outputs": [],
   "source": []
  },
  {
   "cell_type": "code",
   "execution_count": null,
   "id": "bdd66f4b",
   "metadata": {},
   "outputs": [],
   "source": []
  }
 ],
 "metadata": {
  "kernelspec": {
   "display_name": "OD_Test2",
   "language": "python",
   "name": "od_test2"
  },
  "language_info": {
   "codemirror_mode": {
    "name": "ipython",
    "version": 3
   },
   "file_extension": ".py",
   "mimetype": "text/x-python",
   "name": "python",
   "nbconvert_exporter": "python",
   "pygments_lexer": "ipython3",
   "version": "3.10.12"
  }
 },
 "nbformat": 4,
 "nbformat_minor": 5
}
